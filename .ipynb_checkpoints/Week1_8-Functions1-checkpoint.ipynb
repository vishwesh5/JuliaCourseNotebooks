{
 "cells": [
  {
   "cell_type": "code",
   "execution_count": 11,
   "metadata": {},
   "outputs": [
    {
     "data": {
      "text/html": [
       "<link href='http://fonts.googleapis.com/css?family=Alegreya+Sans:100,300,400,500,700,800,900,100italic,300italic,400italic,500italic,700italic,800italic,900italic' rel='stylesheet' type='text/css'>\n",
       "<link href='http://fonts.googleapis.com/css?family=Arvo:400,700,400italic' rel='stylesheet' type='text/css'>\n",
       "<link href='http://fonts.googleapis.com/css?family=PT+Mono' rel='stylesheet' type='text/css'>\n",
       "<link href='http://fonts.googleapis.com/css?family=Shadows+Into+Light' rel='stylesheet' type='text/css'>\n",
       "<link href='http://fonts.googleapis.com/css?family=Philosopher:400,700,400italic,700italic' rel='stylesheet' type='text/css'>\n",
       "\n",
       "<style>\n",
       "\n",
       "@font-face {\n",
       "    font-family: \"Computer Modern\";\n",
       "    src: url('http://mirrors.ctan.org/fonts/cm-unicode/fonts/otf/cmunss.otf');\n",
       "}\n",
       "\n",
       "#notebook_panel { /* main background */\n",
       "    background: #ddd;\n",
       "    color: #000000;\n",
       "}\n",
       "\n",
       "\n",
       "\n",
       "/* Formatting for header cells */\n",
       ".text_cell_render h1 {\n",
       "    font-family: 'Philosopher', sans-serif;\n",
       "    font-weight: 400;\n",
       "    font-size: 2.2em;\n",
       "    line-height: 100%;\n",
       "    color: rgb(0, 80, 120);\n",
       "    margin-bottom: 0.1em;\n",
       "    margin-top: 0.1em;\n",
       "    display: block;\n",
       "}\t\n",
       ".text_cell_render h2 {\n",
       "    font-family: 'Philosopher', serif;\n",
       "    font-weight: 400;\n",
       "    font-size: 1.9em;\n",
       "    line-height: 100%;\n",
       "    color: rgb(200,100,0);\n",
       "    margin-bottom: 0.1em;\n",
       "    margin-top: 0.1em;\n",
       "    display: block;\n",
       "}\t\n",
       "\n",
       ".text_cell_render h3 {\n",
       "    font-family: 'Philosopher', serif;\n",
       "    margin-top:12px;\n",
       "    margin-bottom: 3px;\n",
       "    font-style: italic;\n",
       "    color: rgb(94,127,192);\n",
       "}\n",
       "\n",
       ".text_cell_render h4 {\n",
       "    font-family: 'Philosopher', serif;\n",
       "}\n",
       "\n",
       ".text_cell_render h5 {\n",
       "    font-family: 'Alegreya Sans', sans-serif;\n",
       "    font-weight: 300;\n",
       "    font-size: 16pt;\n",
       "    color: grey;\n",
       "    font-style: italic;\n",
       "    margin-bottom: .1em;\n",
       "    margin-top: 0.1em;\n",
       "    display: block;\n",
       "}\n",
       "\n",
       ".text_cell_render h6 {\n",
       "    font-family: 'PT Mono', sans-serif;\n",
       "    font-weight: 300;\n",
       "    font-size: 10pt;\n",
       "    color: grey;\n",
       "    margin-bottom: 1px;\n",
       "    margin-top: 1px;\n",
       "}\n",
       "\n",
       ".CodeMirror{\n",
       "        font-family: \"PT Mono\";\n",
       "        font-size: 100%;\n",
       "}\n",
       "\n",
       "</style>\n",
       "\n"
      ],
      "text/plain": [
       "HTML{ASCIIString}(\"<link href='http://fonts.googleapis.com/css?family=Alegreya+Sans:100,300,400,500,700,800,900,100italic,300italic,400italic,500italic,700italic,800italic,900italic' rel='stylesheet' type='text/css'>\\n<link href='http://fonts.googleapis.com/css?family=Arvo:400,700,400italic' rel='stylesheet' type='text/css'>\\n<link href='http://fonts.googleapis.com/css?family=PT+Mono' rel='stylesheet' type='text/css'>\\n<link href='http://fonts.googleapis.com/css?family=Shadows+Into+Light' rel='stylesheet' type='text/css'>\\n<link href='http://fonts.googleapis.com/css?family=Philosopher:400,700,400italic,700italic' rel='stylesheet' type='text/css'>\\n\\n<style>\\n\\n@font-face {\\n    font-family: \\\"Computer Modern\\\";\\n    src: url('http://mirrors.ctan.org/fonts/cm-unicode/fonts/otf/cmunss.otf');\\n}\\n\\n#notebook_panel { /* main background */\\n    background: #ddd;\\n    color: #000000;\\n}\\n\\n\\n\\n/* Formatting for header cells */\\n.text_cell_render h1 {\\n    font-family: 'Philosopher', sans-serif;\\n    font-weight: 400;\\n    font-size: 2.2em;\\n    line-height: 100%;\\n    color: rgb(0, 80, 120);\\n    margin-bottom: 0.1em;\\n    margin-top: 0.1em;\\n    display: block;\\n}\\t\\n.text_cell_render h2 {\\n    font-family: 'Philosopher', serif;\\n    font-weight: 400;\\n    font-size: 1.9em;\\n    line-height: 100%;\\n    color: rgb(200,100,0);\\n    margin-bottom: 0.1em;\\n    margin-top: 0.1em;\\n    display: block;\\n}\\t\\n\\n.text_cell_render h3 {\\n    font-family: 'Philosopher', serif;\\n    margin-top:12px;\\n    margin-bottom: 3px;\\n    font-style: italic;\\n    color: rgb(94,127,192);\\n}\\n\\n.text_cell_render h4 {\\n    font-family: 'Philosopher', serif;\\n}\\n\\n.text_cell_render h5 {\\n    font-family: 'Alegreya Sans', sans-serif;\\n    font-weight: 300;\\n    font-size: 16pt;\\n    color: grey;\\n    font-style: italic;\\n    margin-bottom: .1em;\\n    margin-top: 0.1em;\\n    display: block;\\n}\\n\\n.text_cell_render h6 {\\n    font-family: 'PT Mono', sans-serif;\\n    font-weight: 300;\\n    font-size: 10pt;\\n    color: grey;\\n    margin-bottom: 1px;\\n    margin-top: 1px;\\n}\\n\\n.CodeMirror{\\n        font-family: \\\"PT Mono\\\";\\n        font-size: 100%;\\n}\\n\\n</style>\\n\\n\")"
      ]
     },
     "execution_count": 11,
     "metadata": {},
     "output_type": "execute_result"
    }
   ],
   "source": [
    "# Setting up a custom stylesheet in IJulia\n",
    "file = open(\"style.css\") # A .css file in the same folder as this notebook file\n",
    "styl = readall(file) # Read the file\n",
    "HTML(\"$styl\") # Output as HTML"
   ]
  },
  {
   "cell_type": "markdown",
   "metadata": {},
   "source": [
    "# Functions in Julia I"
   ]
  },
  {
   "cell_type": "markdown",
   "metadata": {
    "collapsed": true
   },
   "source": [
    "<h2>In this lecture</h2>\n",
    "\n",
    "- [Outcome](#Outcome)\n",
    "- [Functions in Julia](#Functions-in-Julia)\n",
    "- [Command line help](#Command-line-help)\n",
    "- [Built-in mathematical functions](#Built-in-mathematical-functions)\n",
    "- [Multiple dispatch](#Multiple-dispatch)\n"
   ]
  },
  {
   "cell_type": "markdown",
   "metadata": {},
   "source": [
    "<hr>\n",
    "<h2>Outcome</h2>\n",
    "\n",
    "After this lecture, you will be able to: \n",
    "\n",
    "- Say how a Julia function works\n",
    "- Describe the difference between built-in and user-defined functions in Julia\n",
    "- List and use some basic mathematical functions\n",
    "- Describe Julia's multiple dispatch using * as the example"
   ]
  },
  {
   "cell_type": "markdown",
   "metadata": {},
   "source": [
    "[Back to the top](#In-this-lecture)"
   ]
  },
  {
   "cell_type": "markdown",
   "metadata": {},
   "source": [
    "[Back to the top](#In-this-lecture)"
   ]
  },
  {
   "cell_type": "markdown",
   "metadata": {},
   "source": [
    "<h2>Functions in Julia</h2>\n",
    "\n",
    "Recall a recent example using the funtion println():"
   ]
  },
  {
   "cell_type": "code",
   "execution_count": 1,
   "metadata": {},
   "outputs": [
    {
     "name": "stdout",
     "output_type": "stream",
     "text": [
      "Hello, world!!\n"
     ]
    }
   ],
   "source": [
    "greeting = \"Hello, world!!\"\n",
    "println(greeting) "
   ]
  },
  {
   "cell_type": "markdown",
   "metadata": {},
   "source": [
    "This is a good example of the basics of how a function works: it receives some input (in this case, the value of a variable) and makes something happen (in this case, showing a string on the screen).\n",
    "\n",
    "Many a function generates a value. In fact, possibly the most common use of functions is to create values to be assigned to variables:"
   ]
  },
  {
   "cell_type": "code",
   "execution_count": 2,
   "metadata": {},
   "outputs": [
    {
     "data": {
      "text/plain": [
       "(0.9800665778412416, 2.302585092994046, 1.22)"
      ]
     },
     "execution_count": 2,
     "metadata": {},
     "output_type": "execute_result"
    }
   ],
   "source": [
    "a, b, c = cos(0.2), log(10), abs(-1.22)  # multiple assignment to three separate variables"
   ]
  },
  {
   "cell_type": "code",
   "execution_count": 3,
   "metadata": {},
   "outputs": [
    {
     "data": {
      "text/plain": [
       "0.9800665778412416"
      ]
     },
     "execution_count": 3,
     "metadata": {},
     "output_type": "execute_result"
    }
   ],
   "source": [
    "a"
   ]
  },
  {
   "cell_type": "markdown",
   "metadata": {},
   "source": [
    "Julia is a functional language, which means that in a sense the basic unit for organising code in Julia is the function. For instance, typeof() provides information which in other types of languages is obtained via other means. If you read the Julia code (it is publicly available, see www.julialang.org), you will see that virtually everything there is done via functions.\n",
    "\n",
    "This means of course that when you write code, you should also as far as possible organise your code in funtions. We address user-defined functions in Lecture 9 (the one after this one)."
   ]
  },
  {
   "cell_type": "markdown",
   "metadata": {},
   "source": [
    "[Back to the top](#In-this-lecture)"
   ]
  },
  {
   "cell_type": "markdown",
   "metadata": {},
   "source": [
    "<h2>Command line help</h2>\n",
    "\n",
    "To get help in an IJulia, type \"?\" followed by a topic. For functions, you'll get the syntax (there may be several versions) and in other cases some brief guidance. For example, \n",
    "\"? cos\" gives very simple syntax, \"? help\" sends you to the Julia documentation (which beginners might find unsuitable for their queries) and \"?hist\" gives two variations of the basic command plus several more options to explore.\n"
   ]
  },
  {
   "cell_type": "code",
   "execution_count": 4,
   "metadata": {},
   "outputs": [
    {
     "name": "stdout",
     "output_type": "stream",
     "text": [
      "search: \u001b[0m\u001b[1mc\u001b[22m\u001b[0m\u001b[1mo\u001b[22m\u001b[0m\u001b[1ms\u001b[22m \u001b[0m\u001b[1mc\u001b[22m\u001b[0m\u001b[1mo\u001b[22m\u001b[0m\u001b[1ms\u001b[22mh \u001b[0m\u001b[1mc\u001b[22m\u001b[0m\u001b[1mo\u001b[22m\u001b[0m\u001b[1ms\u001b[22md \u001b[0m\u001b[1mc\u001b[22m\u001b[0m\u001b[1mo\u001b[22m\u001b[0m\u001b[1ms\u001b[22mc \u001b[0m\u001b[1mc\u001b[22m\u001b[0m\u001b[1mo\u001b[22m\u001b[0m\u001b[1ms\u001b[22mpi a\u001b[0m\u001b[1mc\u001b[22m\u001b[0m\u001b[1mo\u001b[22m\u001b[0m\u001b[1ms\u001b[22m a\u001b[0m\u001b[1mc\u001b[22m\u001b[0m\u001b[1mo\u001b[22m\u001b[0m\u001b[1ms\u001b[22mh a\u001b[0m\u001b[1mc\u001b[22m\u001b[0m\u001b[1mo\u001b[22m\u001b[0m\u001b[1ms\u001b[22md sin\u001b[0m\u001b[1mc\u001b[22m\u001b[0m\u001b[1mo\u001b[22m\u001b[0m\u001b[1ms\u001b[22m \u001b[0m\u001b[1mc\u001b[22m\u001b[0m\u001b[1mo\u001b[22mn\u001b[0m\u001b[1ms\u001b[22mt \u001b[0m\u001b[1mc\u001b[22ml\u001b[0m\u001b[1mo\u001b[22m\u001b[0m\u001b[1ms\u001b[22me is\u001b[0m\u001b[1mc\u001b[22m\u001b[0m\u001b[1mo\u001b[22mn\u001b[0m\u001b[1ms\u001b[22mt\n",
      "\n"
     ]
    },
    {
     "data": {
      "text/latex": [
       "\\begin{verbatim}\n",
       "cos(x)\n",
       "\\end{verbatim}\n",
       "Compute cosine of \\texttt{x}, where \\texttt{x} is in radians.\n",
       "\n",
       "\\rule{\\textwidth}{1pt}\n",
       "\\begin{verbatim}\n",
       "cos(A::AbstractMatrix)\n",
       "\\end{verbatim}\n",
       "Compute the matrix cosine of a square matrix \\texttt{A}.\n",
       "\n",
       "If \\texttt{A} is symmetric or Hermitian, its eigendecomposition (\\href{@ref}{\\texttt{eigen}}) is used to compute the cosine. Otherwise, the cosine is determined by calling \\href{@ref}{\\texttt{exp}}.\n",
       "\n",
       "\\section{Examples}\n",
       "\\begin{verbatim}\n",
       "julia> cos(fill(1.0, (2,2)))\n",
       "2×2 Array{Float64,2}:\n",
       "  0.291927  -0.708073\n",
       " -0.708073   0.291927\n",
       "\\end{verbatim}\n"
      ],
      "text/markdown": [
       "```\n",
       "cos(x)\n",
       "```\n",
       "\n",
       "Compute cosine of `x`, where `x` is in radians.\n",
       "\n",
       "---\n",
       "\n",
       "```\n",
       "cos(A::AbstractMatrix)\n",
       "```\n",
       "\n",
       "Compute the matrix cosine of a square matrix `A`.\n",
       "\n",
       "If `A` is symmetric or Hermitian, its eigendecomposition ([`eigen`](@ref)) is used to compute the cosine. Otherwise, the cosine is determined by calling [`exp`](@ref).\n",
       "\n",
       "# Examples\n",
       "\n",
       "```jldoctest\n",
       "julia> cos(fill(1.0, (2,2)))\n",
       "2×2 Array{Float64,2}:\n",
       "  0.291927  -0.708073\n",
       " -0.708073   0.291927\n",
       "```\n"
      ],
      "text/plain": [
       "\u001b[36m  cos(x)\u001b[39m\n",
       "\n",
       "  Compute cosine of \u001b[36mx\u001b[39m, where \u001b[36mx\u001b[39m is in radians.\n",
       "\n",
       "  ────────────────────────────────────────────────────────────────────────────\n",
       "\n",
       "\u001b[36m  cos(A::AbstractMatrix)\u001b[39m\n",
       "\n",
       "  Compute the matrix cosine of a square matrix \u001b[36mA\u001b[39m.\n",
       "\n",
       "  If \u001b[36mA\u001b[39m is symmetric or Hermitian, its eigendecomposition (\u001b[36meigen\u001b[39m) is used to\n",
       "  compute the cosine. Otherwise, the cosine is determined by calling \u001b[36mexp\u001b[39m.\n",
       "\n",
       "\u001b[1m  Examples\u001b[22m\n",
       "\u001b[1m  ≡≡≡≡≡≡≡≡≡≡\u001b[22m\n",
       "\n",
       "\u001b[36m  julia> cos(fill(1.0, (2,2)))\u001b[39m\n",
       "\u001b[36m  2×2 Array{Float64,2}:\u001b[39m\n",
       "\u001b[36m    0.291927  -0.708073\u001b[39m\n",
       "\u001b[36m   -0.708073   0.291927\u001b[39m"
      ]
     },
     "execution_count": 4,
     "metadata": {},
     "output_type": "execute_result"
    }
   ],
   "source": [
    "? cos"
   ]
  },
  {
   "cell_type": "code",
   "execution_count": 5,
   "metadata": {},
   "outputs": [
    {
     "name": "stdout",
     "output_type": "stream",
     "text": [
      "search: sc\u001b[0m\u001b[1mh\u001b[22m\u001b[0m\u001b[1me\u001b[22mdu\u001b[0m\u001b[1ml\u001b[22me C\u001b[0m\u001b[1mh\u001b[22mann\u001b[0m\u001b[1me\u001b[22m\u001b[0m\u001b[1ml\u001b[22m @t\u001b[0m\u001b[1mh\u001b[22mr\u001b[0m\u001b[1me\u001b[22madca\u001b[0m\u001b[1ml\u001b[22ml AbstractC\u001b[0m\u001b[1mh\u001b[22mann\u001b[0m\u001b[1me\u001b[22m\u001b[0m\u001b[1ml\u001b[22m searc\u001b[0m\u001b[1mh\u001b[22msort\u001b[0m\u001b[1me\u001b[22md\u001b[0m\u001b[1ml\u001b[22mast\n",
      "\n"
     ]
    },
    {
     "data": {
      "text/latex": [
       "\\textbf{Welcome to Julia 1.0.3.} The full manual is available at\n",
       "\n",
       "\\begin{verbatim}\n",
       "https://docs.julialang.org/\n",
       "\\end{verbatim}\n",
       "as well as many great tutorials and learning resources:\n",
       "\n",
       "\\begin{verbatim}\n",
       "https://julialang.org/learning/\n",
       "\\end{verbatim}\n",
       "For help on a specific function or macro, type \\texttt{?} followed by its name, e.g. \\texttt{?cos}, or \\texttt{?@time}, and press enter. Type \\texttt{;} to enter shell mode, \\texttt{]} to enter package mode.\n",
       "\n"
      ],
      "text/markdown": [
       "**Welcome to Julia 1.0.3.** The full manual is available at\n",
       "\n",
       "```\n",
       "https://docs.julialang.org/\n",
       "```\n",
       "\n",
       "as well as many great tutorials and learning resources:\n",
       "\n",
       "```\n",
       "https://julialang.org/learning/\n",
       "```\n",
       "\n",
       "For help on a specific function or macro, type `?` followed by its name, e.g. `?cos`, or `?@time`, and press enter. Type `;` to enter shell mode, `]` to enter package mode.\n"
      ],
      "text/plain": [
       "  \u001b[1mWelcome to Julia 1.0.3.\u001b[22m The full manual is available at\n",
       "\n",
       "\u001b[36m  https://docs.julialang.org/\u001b[39m\n",
       "\n",
       "  as well as many great tutorials and learning resources:\n",
       "\n",
       "\u001b[36m  https://julialang.org/learning/\u001b[39m\n",
       "\n",
       "  For help on a specific function or macro, type \u001b[36m?\u001b[39m followed by its name, e.g.\n",
       "  \u001b[36m?cos\u001b[39m, or \u001b[36m?@time\u001b[39m, and press enter. Type \u001b[36m;\u001b[39m to enter shell mode, \u001b[36m]\u001b[39m to enter\n",
       "  package mode."
      ]
     },
     "execution_count": 5,
     "metadata": {},
     "output_type": "execute_result"
    }
   ],
   "source": [
    "?help   # space or not after after \"?\" makes no difference (but hopping to a new line does!)"
   ]
  },
  {
   "cell_type": "code",
   "execution_count": 8,
   "metadata": {},
   "outputs": [
    {
     "name": "stdout",
     "output_type": "stream",
     "text": [
      "\u001b[32m\u001b[1m  Updating\u001b[22m\u001b[39m registry at `~/.julia/registries/General`\n",
      "\u001b[32m\u001b[1m  Updating\u001b[22m\u001b[39m git-repo `https://github.com/JuliaRegistries/General.git`\n",
      "\u001b[2K\u001b[?25h[1mFetching:\u001b[22m\u001b[39m [========================================>]  100.0 %.0 %\u001b[32m\u001b[1m Resolving\u001b[22m\u001b[39m package versions...\n",
      "\u001b[32m\u001b[1m Installed\u001b[22m\u001b[39m StatPlots ────────────── v0.8.2\n",
      "\u001b[32m\u001b[1m Installed\u001b[22m\u001b[39m StatsFuns ────────────── v0.7.0\n",
      "\u001b[32m\u001b[1m Installed\u001b[22m\u001b[39m QuadGK ───────────────── v2.0.3\n",
      "\u001b[32m\u001b[1m Installed\u001b[22m\u001b[39m IterableTables ───────── v0.10.0\n",
      "\u001b[32m\u001b[1m Installed\u001b[22m\u001b[39m NearestNeighbors ─────── v0.4.2\n",
      "\u001b[32m\u001b[1m Installed\u001b[22m\u001b[39m Distributions ────────── v0.16.4\n",
      "\u001b[32m\u001b[1m Installed\u001b[22m\u001b[39m Optim ────────────────── v0.17.2\n",
      "\u001b[32m\u001b[1m Installed\u001b[22m\u001b[39m Clustering ───────────── v0.12.1\n",
      "\u001b[32m\u001b[1m Installed\u001b[22m\u001b[39m TableTraitsUtils ─────── v0.3.1\n",
      "\u001b[32m\u001b[1m Installed\u001b[22m\u001b[39m Rmath ────────────────── v0.5.0\n",
      "\u001b[32m\u001b[1m Installed\u001b[22m\u001b[39m PDMats ───────────────── v0.9.6\n",
      "\u001b[32m\u001b[1m Installed\u001b[22m\u001b[39m Arpack ───────────────── v0.3.0\n",
      "\u001b[32m\u001b[1m Installed\u001b[22m\u001b[39m PositiveFactorizations ─ v0.2.1\n",
      "\u001b[32m\u001b[1m Installed\u001b[22m\u001b[39m DataValues ───────────── v0.4.5\n",
      "\u001b[32m\u001b[1m Installed\u001b[22m\u001b[39m StaticArrays ─────────── v0.10.2\n",
      "\u001b[32m\u001b[1m Installed\u001b[22m\u001b[39m KernelDensity ────────── v0.5.1\n",
      "\u001b[32m\u001b[1m  Updating\u001b[22m\u001b[39m `~/.julia/environments/v1.0/Project.toml`\n",
      " \u001b[90m [60ddc479]\u001b[39m\u001b[92m + StatPlots v0.8.2\u001b[39m\n",
      "\u001b[32m\u001b[1m  Updating\u001b[22m\u001b[39m `~/.julia/environments/v1.0/Manifest.toml`\n",
      " \u001b[90m [7d9fca2a]\u001b[39m\u001b[92m + Arpack v0.3.0\u001b[39m\n",
      " \u001b[90m [aaaa29a8]\u001b[39m\u001b[92m + Clustering v0.12.1\u001b[39m\n",
      " \u001b[90m [e7dc6d0d]\u001b[39m\u001b[92m + DataValues v0.4.5\u001b[39m\n",
      " \u001b[90m [31c24e10]\u001b[39m\u001b[92m + Distributions v0.16.4\u001b[39m\n",
      " \u001b[90m [1c8ee90f]\u001b[39m\u001b[92m + IterableTables v0.10.0\u001b[39m\n",
      " \u001b[90m [5ab0869b]\u001b[39m\u001b[92m + KernelDensity v0.5.1\u001b[39m\n",
      " \u001b[90m [b8a86587]\u001b[39m\u001b[92m + NearestNeighbors v0.4.2\u001b[39m\n",
      " \u001b[90m [429524aa]\u001b[39m\u001b[92m + Optim v0.17.2\u001b[39m\n",
      " \u001b[90m [90014a1f]\u001b[39m\u001b[92m + PDMats v0.9.6\u001b[39m\n",
      " \u001b[90m [85a6dd25]\u001b[39m\u001b[92m + PositiveFactorizations v0.2.1\u001b[39m\n",
      " \u001b[90m [1fd47b50]\u001b[39m\u001b[92m + QuadGK v2.0.3\u001b[39m\n",
      " \u001b[90m [79098fc4]\u001b[39m\u001b[92m + Rmath v0.5.0\u001b[39m\n",
      " \u001b[90m [60ddc479]\u001b[39m\u001b[92m + StatPlots v0.8.2\u001b[39m\n",
      " \u001b[90m [90137ffa]\u001b[39m\u001b[93m ↑ StaticArrays v0.10.0 ⇒ v0.10.2\u001b[39m\n",
      " \u001b[90m [4c63d2b9]\u001b[39m\u001b[92m + StatsFuns v0.7.0\u001b[39m\n",
      " \u001b[90m [382cd787]\u001b[39m\u001b[92m + TableTraitsUtils v0.3.1\u001b[39m\n",
      "\u001b[32m\u001b[1m  Building\u001b[22m\u001b[39m Arpack → `~/.julia/packages/Arpack/UiiMc/deps/build.log`\n",
      "\u001b[32m\u001b[1m  Building\u001b[22m\u001b[39m Rmath ─→ `~/.julia/packages/Rmath/Py9gH/deps/build.log`\n"
     ]
    }
   ],
   "source": [
    "using Pkg\n",
    "Pkg.add(\"StatPlots\")"
   ]
  },
  {
   "cell_type": "code",
   "execution_count": 9,
   "metadata": {},
   "outputs": [
    {
     "name": "stderr",
     "output_type": "stream",
     "text": [
      "┌ Info: Precompiling StatPlots [60ddc479-9b66-56df-82fc-76a74619b69c]\n",
      "└ @ Base loading.jl:1192\n"
     ]
    }
   ],
   "source": [
    "using StatPlots"
   ]
  },
  {
   "cell_type": "code",
   "execution_count": 10,
   "metadata": {},
   "outputs": [
    {
     "name": "stdout",
     "output_type": "stream",
     "text": [
      "search: \u001b[0m\u001b[1mh\u001b[22m\u001b[0m\u001b[1mi\u001b[22m\u001b[0m\u001b[1ms\u001b[22m\u001b[0m\u001b[1mt\u001b[22m\u001b[0m\u001b[1mo\u001b[22m\u001b[0m\u001b[1mg\u001b[22m\u001b[0m\u001b[1mr\u001b[22m\u001b[0m\u001b[1ma\u001b[22m\u001b[0m\u001b[1mm\u001b[22m \u001b[0m\u001b[1mh\u001b[22m\u001b[0m\u001b[1mi\u001b[22m\u001b[0m\u001b[1ms\u001b[22m\u001b[0m\u001b[1mt\u001b[22m\u001b[0m\u001b[1mo\u001b[22m\u001b[0m\u001b[1mg\u001b[22m\u001b[0m\u001b[1mr\u001b[22m\u001b[0m\u001b[1ma\u001b[22m\u001b[0m\u001b[1mm\u001b[22m! \u001b[0m\u001b[1mh\u001b[22m\u001b[0m\u001b[1mi\u001b[22m\u001b[0m\u001b[1ms\u001b[22m\u001b[0m\u001b[1mt\u001b[22m\u001b[0m\u001b[1mo\u001b[22m\u001b[0m\u001b[1mg\u001b[22m\u001b[0m\u001b[1mr\u001b[22m\u001b[0m\u001b[1ma\u001b[22m\u001b[0m\u001b[1mm\u001b[22m2d \u001b[0m\u001b[1mh\u001b[22m\u001b[0m\u001b[1mi\u001b[22m\u001b[0m\u001b[1ms\u001b[22m\u001b[0m\u001b[1mt\u001b[22m\u001b[0m\u001b[1mo\u001b[22m\u001b[0m\u001b[1mg\u001b[22m\u001b[0m\u001b[1mr\u001b[22m\u001b[0m\u001b[1ma\u001b[22m\u001b[0m\u001b[1mm\u001b[22m2d! ea_\u001b[0m\u001b[1mh\u001b[22m\u001b[0m\u001b[1mi\u001b[22m\u001b[0m\u001b[1ms\u001b[22m\u001b[0m\u001b[1mt\u001b[22m\u001b[0m\u001b[1mo\u001b[22m\u001b[0m\u001b[1mg\u001b[22m\u001b[0m\u001b[1mr\u001b[22m\u001b[0m\u001b[1ma\u001b[22m\u001b[0m\u001b[1mm\u001b[22m ea_\u001b[0m\u001b[1mh\u001b[22m\u001b[0m\u001b[1mi\u001b[22m\u001b[0m\u001b[1ms\u001b[22m\u001b[0m\u001b[1mt\u001b[22m\u001b[0m\u001b[1mo\u001b[22m\u001b[0m\u001b[1mg\u001b[22m\u001b[0m\u001b[1mr\u001b[22m\u001b[0m\u001b[1ma\u001b[22m\u001b[0m\u001b[1mm\u001b[22m!\n",
      "\n"
     ]
    },
    {
     "data": {
      "text/latex": [
       "No documentation found.\n",
       "\n",
       "\\texttt{Plots.histogram} is a \\texttt{Function}.\n",
       "\n",
       "\\begin{verbatim}\n",
       "# 1 method for generic function \"histogram\":\n",
       "[1] histogram(args...; kw...) in Plots at /home/hp/.julia/packages/RecipesBase/Uz5AO/src/RecipesBase.jl:368\n",
       "\\end{verbatim}\n"
      ],
      "text/markdown": [
       "No documentation found.\n",
       "\n",
       "`Plots.histogram` is a `Function`.\n",
       "\n",
       "```\n",
       "# 1 method for generic function \"histogram\":\n",
       "[1] histogram(args...; kw...) in Plots at /home/hp/.julia/packages/RecipesBase/Uz5AO/src/RecipesBase.jl:368\n",
       "```\n"
      ],
      "text/plain": [
       "  No documentation found.\n",
       "\n",
       "  \u001b[36mPlots.histogram\u001b[39m is a \u001b[36mFunction\u001b[39m.\n",
       "\n",
       "\u001b[36m  # 1 method for generic function \"histogram\":\u001b[39m\n",
       "\u001b[36m  [1] histogram(args...; kw...) in Plots at /home/hp/.julia/packages/RecipesBase/Uz5AO/src/RecipesBase.jl:368\u001b[39m"
      ]
     },
     "execution_count": 10,
     "metadata": {},
     "output_type": "execute_result"
    }
   ],
   "source": [
    "?histogram"
   ]
  },
  {
   "cell_type": "markdown",
   "metadata": {},
   "source": [
    "**This rapid, concise help is a wonderful resource to have on hand. USE IT OFTEN,    especially for spelling and syntax.**"
   ]
  },
  {
   "cell_type": "markdown",
   "metadata": {},
   "source": [
    "[Back to the top](#In-this-lecture)"
   ]
  },
  {
   "cell_type": "markdown",
   "metadata": {},
   "source": [
    "<h2>Built-in mathematical functions</h2>\n",
    "\n",
    "Julia has many built-in functions, and for scientific and technical computing the most important of these are mathematical. The following lists a very small part of what is available:\n",
    "\n",
    "exp()\n",
    "\n",
    "log()    ...  NB! this is the *natural* logarithm\n",
    "\n",
    "log10()  ...    *this* is the logarithm to base 10\n",
    "\n",
    "\n",
    "cos()    ... argument must be in radians\n",
    "\n",
    "sin()\n",
    "\n",
    "tan()\n",
    "\n",
    "acos()   ... the result is a value in radians\n",
    "\n",
    "asin()\n",
    "\n",
    "atan()   ...  NB! this only returns some angles (between -π/2 and π/2, to be exact)\n",
    "\n",
    "atan2()  ...  use this to get angles from quadrants two and three; it requires two inputs\n",
    "\n",
    "\n",
    "floor()\n",
    "\n",
    "ceil()\n",
    "\n",
    "rem()\n",
    "\n",
    "round()  ... use round(Int, x) to convert any x of abstract type Real to an integer type (usually Int64)  \n",
    "\n",
    "**DO EXPLORE THESE USING THE \"?\" QUERY METHOD!**"
   ]
  },
  {
   "cell_type": "markdown",
   "metadata": {},
   "source": [
    "And if you enter the first one or more letters of a function, and press Tab, you'll see a list of possible completions. This includes all the available function names that start with that letter or letter. This is a good way to search for function names. For example:"
   ]
  },
  {
   "cell_type": "code",
   "execution_count": null,
   "metadata": {
    "collapsed": true
   },
   "outputs": [],
   "source": [
    "d          # Tab to show completions, use up and down arrows to scroll the list in JuliaBox"
   ]
  },
  {
   "cell_type": "markdown",
   "metadata": {},
   "source": [
    "[Back to the top](#In-this-lecture)"
   ]
  },
  {
   "cell_type": "markdown",
   "metadata": {},
   "source": [
    "<h2>Multiple dispatch</h2>\n",
    "\n",
    "This is related to the fact that many functions allow, or even require, more than one input value. For example, atan2() requires two values, and muladd() requires three (look it up!).\n",
    "\n",
    "Moreover, functions must accept inputs of more than one type. For instance, if we enter \"cos(1)\" then we are sending a value with type Int64 to Julia's cos() function. And if we enter \"cos(1.)\" we are sending a value of type Float64. But the value created by Julia's cos() function in both cases is 0.5403023058681398.\n",
    "\n",
    "Which is exactly what we want, of course. BUT!\n",
    "\n",
    "A function name points to a code body. When the code actually executes, it should be specialised on one type, else it will run very slowly, if at all. A function such as cos() actually has several such code bodies, to deal with inputs of different types. These are called the *methods* of that function. So how do Julia functions manage to have only one name, but many methods?\n",
    "\n",
    "The answer is multiple dispatch: Julia allows many methods, as long as they differ according to input type. All the input values are used to check this, hence the name multiple dispatch. The pattern of types in the input values in a given function call is its *type signature*. For example, muladd() has 5 permissible type signatures, which we see by using the function methods():"
   ]
  },
  {
   "cell_type": "code",
   "execution_count": 11,
   "metadata": {},
   "outputs": [
    {
     "data": {
      "text/html": [
       "161 methods for generic function <b>muladd</b>:<ul><li> muladd(x::<b>Float32</b>, y::<b>Float32</b>, z::<b>Float32</b>) in Base at <a href=\"https://github.com/JuliaLang/julia/tree/099e826241fca365a120df9bac9a9fede6e7bae4/base/float.jl#L403\" target=\"_blank\">float.jl:403</a></li> <li> muladd(x::<b>Float64</b>, y::<b>Float64</b>, z::<b>Float64</b>) in Base at <a href=\"https://github.com/JuliaLang/julia/tree/099e826241fca365a120df9bac9a9fede6e7bae4/base/float.jl#L404\" target=\"_blank\">float.jl:404</a></li> <li> muladd(a::<b>Float16</b>, b::<b>Float16</b>, c::<b>Float16</b>) in Base at <a href=\"https://github.com/JuliaLang/julia/tree/099e826241fca365a120df9bac9a9fede6e7bae4/base/float.jl#L406\" target=\"_blank\">float.jl:406</a></li> <li> muladd(z::<b>Complex</b>, w::<b>Complex</b>, x::<b>Complex</b>) in Base at <a href=\"https://github.com/JuliaLang/julia/tree/099e826241fca365a120df9bac9a9fede6e7bae4/base/complex.jl#L271\" target=\"_blank\">complex.jl:271</a></li> <li> muladd(x::<b>Real</b>, z::<b>Complex</b>, y::<b>Number</b>) in Base at <a href=\"https://github.com/JuliaLang/julia/tree/099e826241fca365a120df9bac9a9fede6e7bae4/base/complex.jl#L314\" target=\"_blank\">complex.jl:314</a></li> <li> muladd(z::<b>Complex</b>, x::<b>Real</b>, y::<b>Real</b>) in Base at <a href=\"https://github.com/JuliaLang/julia/tree/099e826241fca365a120df9bac9a9fede6e7bae4/base/complex.jl#L315\" target=\"_blank\">complex.jl:315</a></li> <li> muladd(z::<b>Complex</b>, x::<b>Real</b>, w::<b>Complex</b>) in Base at <a href=\"https://github.com/JuliaLang/julia/tree/099e826241fca365a120df9bac9a9fede6e7bae4/base/complex.jl#L316\" target=\"_blank\">complex.jl:316</a></li> <li> muladd(x::<b>Real</b>, y::<b>Real</b>, z::<b>Complex</b>) in Base at <a href=\"https://github.com/JuliaLang/julia/tree/099e826241fca365a120df9bac9a9fede6e7bae4/base/complex.jl#L318\" target=\"_blank\">complex.jl:318</a></li> <li> muladd(z::<b>Complex</b>, w::<b>Complex</b>, x::<b>Real</b>) in Base at <a href=\"https://github.com/JuliaLang/julia/tree/099e826241fca365a120df9bac9a9fede6e7bae4/base/complex.jl#L319\" target=\"_blank\">complex.jl:319</a></li> <li> muladd<i>{Txyz}</i>(x::<b>ForwardDiff.Dual{Txyz,V,N} where N where V</b>, y::<b>ForwardDiff.Dual{Txyz,V,N} where N where V</b>, z::<b>ForwardDiff.Dual{Txyz,V,N} where N where V</b>) in ForwardDiff at <a href=\"file:///home/hp/.julia/packages/ForwardDiff/KHAmA/src/dual.jl\" target=\"_blank\">/home/hp/.julia/packages/ForwardDiff/KHAmA/src/dual.jl:140</a></li> <li> muladd<i>{Txy, Tz}</i>(x::<b>ForwardDiff.Dual{Txy,V,N} where N where V</b>, y::<b>ForwardDiff.Dual{Txy,V,N} where N where V</b>, z::<b>ForwardDiff.Dual{Tz,V,N} where N where V</b>) in ForwardDiff at <a href=\"file:///home/hp/.julia/packages/ForwardDiff/KHAmA/src/dual.jl\" target=\"_blank\">/home/hp/.julia/packages/ForwardDiff/KHAmA/src/dual.jl:141</a></li> <li> muladd<i>{Txz, Ty}</i>(x::<b>ForwardDiff.Dual{Txz,V,N} where N where V</b>, y::<b>ForwardDiff.Dual{Ty,V,N} where N where V</b>, z::<b>ForwardDiff.Dual{Txz,V,N} where N where V</b>) in ForwardDiff at <a href=\"file:///home/hp/.julia/packages/ForwardDiff/KHAmA/src/dual.jl\" target=\"_blank\">/home/hp/.julia/packages/ForwardDiff/KHAmA/src/dual.jl:142</a></li> <li> muladd<i>{Tx, Tyz}</i>(x::<b>ForwardDiff.Dual{Tx,V,N} where N where V</b>, y::<b>ForwardDiff.Dual{Tyz,V,N} where N where V</b>, z::<b>ForwardDiff.Dual{Tyz,V,N} where N where V</b>) in ForwardDiff at <a href=\"file:///home/hp/.julia/packages/ForwardDiff/KHAmA/src/dual.jl\" target=\"_blank\">/home/hp/.julia/packages/ForwardDiff/KHAmA/src/dual.jl:143</a></li> <li> muladd<i>{Tx, Ty, Tz}</i>(x::<b>ForwardDiff.Dual{Tx,V,N} where N where V</b>, y::<b>ForwardDiff.Dual{Ty,V,N} where N where V</b>, z::<b>ForwardDiff.Dual{Tz,V,N} where N where V</b>) in ForwardDiff at <a href=\"file:///home/hp/.julia/packages/ForwardDiff/KHAmA/src/dual.jl\" target=\"_blank\">/home/hp/.julia/packages/ForwardDiff/KHAmA/src/dual.jl:145</a></li> <li> muladd<i>{Txy}</i>(x::<b>ForwardDiff.Dual{Txy,V,N} where N where V</b>, y::<b>ForwardDiff.Dual{Txy,V,N} where N where V</b>, z::<b>AbstractFloat</b>) in ForwardDiff at <a href=\"file:///home/hp/.julia/packages/ForwardDiff/KHAmA/src/dual.jl\" target=\"_blank\">/home/hp/.julia/packages/ForwardDiff/KHAmA/src/dual.jl:156</a></li> <li> muladd<i>{Tx, Ty}</i>(x::<b>ForwardDiff.Dual{Tx,V,N} where N where V</b>, y::<b>ForwardDiff.Dual{Ty,V,N} where N where V</b>, z::<b>AbstractFloat</b>) in ForwardDiff at <a href=\"file:///home/hp/.julia/packages/ForwardDiff/KHAmA/src/dual.jl\" target=\"_blank\">/home/hp/.julia/packages/ForwardDiff/KHAmA/src/dual.jl:157</a></li> <li> muladd<i>{Txz}</i>(x::<b>ForwardDiff.Dual{Txz,V,N} where N where V</b>, y::<b>AbstractFloat</b>, z::<b>ForwardDiff.Dual{Txz,V,N} where N where V</b>) in ForwardDiff at <a href=\"file:///home/hp/.julia/packages/ForwardDiff/KHAmA/src/dual.jl\" target=\"_blank\">/home/hp/.julia/packages/ForwardDiff/KHAmA/src/dual.jl:158</a></li> <li> muladd<i>{Tx, Tz}</i>(x::<b>ForwardDiff.Dual{Tx,V,N} where N where V</b>, y::<b>AbstractFloat</b>, z::<b>ForwardDiff.Dual{Tz,V,N} where N where V</b>) in ForwardDiff at <a href=\"file:///home/hp/.julia/packages/ForwardDiff/KHAmA/src/dual.jl\" target=\"_blank\">/home/hp/.julia/packages/ForwardDiff/KHAmA/src/dual.jl:159</a></li> <li> muladd<i>{Tyz}</i>(x::<b>AbstractFloat</b>, y::<b>ForwardDiff.Dual{Tyz,V,N} where N where V</b>, z::<b>ForwardDiff.Dual{Tyz,V,N} where N where V</b>) in ForwardDiff at <a href=\"file:///home/hp/.julia/packages/ForwardDiff/KHAmA/src/dual.jl\" target=\"_blank\">/home/hp/.julia/packages/ForwardDiff/KHAmA/src/dual.jl:160</a></li> <li> muladd<i>{Ty, Tz}</i>(x::<b>AbstractFloat</b>, y::<b>ForwardDiff.Dual{Ty,V,N} where N where V</b>, z::<b>ForwardDiff.Dual{Tz,V,N} where N where V</b>) in ForwardDiff at <a href=\"file:///home/hp/.julia/packages/ForwardDiff/KHAmA/src/dual.jl\" target=\"_blank\">/home/hp/.julia/packages/ForwardDiff/KHAmA/src/dual.jl:161</a></li> <li> muladd<i>{Tx}</i>(x::<b>ForwardDiff.Dual{Tx,V,N} where N where V</b>, y::<b>AbstractFloat</b>, z::<b>Irrational</b>) in ForwardDiff at <a href=\"file:///home/hp/.julia/packages/ForwardDiff/KHAmA/src/dual.jl\" target=\"_blank\">/home/hp/.julia/packages/ForwardDiff/KHAmA/src/dual.jl:167</a></li> <li> muladd<i>{Ty}</i>(x::<b>AbstractFloat</b>, y::<b>ForwardDiff.Dual{Ty,V,N} where N where V</b>, z::<b>Irrational</b>) in ForwardDiff at <a href=\"file:///home/hp/.julia/packages/ForwardDiff/KHAmA/src/dual.jl\" target=\"_blank\">/home/hp/.julia/packages/ForwardDiff/KHAmA/src/dual.jl:168</a></li> <li> muladd<i>{Tz}</i>(x::<b>AbstractFloat</b>, y::<b>Irrational</b>, z::<b>ForwardDiff.Dual{Tz,V,N} where N where V</b>) in ForwardDiff at <a href=\"file:///home/hp/.julia/packages/ForwardDiff/KHAmA/src/dual.jl\" target=\"_blank\">/home/hp/.julia/packages/ForwardDiff/KHAmA/src/dual.jl:169</a></li> <li> muladd<i>{Tx}</i>(x::<b>ForwardDiff.Dual{Tx,V,N} where N where V</b>, y::<b>AbstractFloat</b>, z::<b>Integer</b>) in ForwardDiff at <a href=\"file:///home/hp/.julia/packages/ForwardDiff/KHAmA/src/dual.jl\" target=\"_blank\">/home/hp/.julia/packages/ForwardDiff/KHAmA/src/dual.jl:167</a></li> <li> muladd<i>{Ty}</i>(x::<b>AbstractFloat</b>, y::<b>ForwardDiff.Dual{Ty,V,N} where N where V</b>, z::<b>Integer</b>) in ForwardDiff at <a href=\"file:///home/hp/.julia/packages/ForwardDiff/KHAmA/src/dual.jl\" target=\"_blank\">/home/hp/.julia/packages/ForwardDiff/KHAmA/src/dual.jl:168</a></li> <li> muladd<i>{Tz}</i>(x::<b>AbstractFloat</b>, y::<b>Integer</b>, z::<b>ForwardDiff.Dual{Tz,V,N} where N where V</b>) in ForwardDiff at <a href=\"file:///home/hp/.julia/packages/ForwardDiff/KHAmA/src/dual.jl\" target=\"_blank\">/home/hp/.julia/packages/ForwardDiff/KHAmA/src/dual.jl:169</a></li> <li> muladd<i>{Tx}</i>(x::<b>ForwardDiff.Dual{Tx,V,N} where N where V</b>, y::<b>AbstractFloat</b>, z::<b>Rational</b>) in ForwardDiff at <a href=\"file:///home/hp/.julia/packages/ForwardDiff/KHAmA/src/dual.jl\" target=\"_blank\">/home/hp/.julia/packages/ForwardDiff/KHAmA/src/dual.jl:167</a></li> <li> muladd<i>{Ty}</i>(x::<b>AbstractFloat</b>, y::<b>ForwardDiff.Dual{Ty,V,N} where N where V</b>, z::<b>Rational</b>) in ForwardDiff at <a href=\"file:///home/hp/.julia/packages/ForwardDiff/KHAmA/src/dual.jl\" target=\"_blank\">/home/hp/.julia/packages/ForwardDiff/KHAmA/src/dual.jl:168</a></li> <li> muladd<i>{Tz}</i>(x::<b>AbstractFloat</b>, y::<b>Rational</b>, z::<b>ForwardDiff.Dual{Tz,V,N} where N where V</b>) in ForwardDiff at <a href=\"file:///home/hp/.julia/packages/ForwardDiff/KHAmA/src/dual.jl\" target=\"_blank\">/home/hp/.julia/packages/ForwardDiff/KHAmA/src/dual.jl:169</a></li> <li> muladd<i>{Tx}</i>(x::<b>ForwardDiff.Dual{Tx,V,N} where N where V</b>, y::<b>AbstractFloat</b>, z::<b>AbstractFloat</b>) in ForwardDiff at <a href=\"file:///home/hp/.julia/packages/ForwardDiff/KHAmA/src/dual.jl\" target=\"_blank\">/home/hp/.julia/packages/ForwardDiff/KHAmA/src/dual.jl:174</a></li> <li> muladd<i>{Tx}</i>(x::<b>ForwardDiff.Dual{Tx,V,N} where N where V</b>, y::<b>AbstractFloat</b>, z::<b>Real</b>) in ForwardDiff at <a href=\"file:///home/hp/.julia/packages/ForwardDiff/KHAmA/src/dual.jl\" target=\"_blank\">/home/hp/.julia/packages/ForwardDiff/KHAmA/src/dual.jl:167</a></li> <li> muladd<i>{Ty}</i>(x::<b>AbstractFloat</b>, y::<b>ForwardDiff.Dual{Ty,V,N} where N where V</b>, z::<b>AbstractFloat</b>) in ForwardDiff at <a href=\"file:///home/hp/.julia/packages/ForwardDiff/KHAmA/src/dual.jl\" target=\"_blank\">/home/hp/.julia/packages/ForwardDiff/KHAmA/src/dual.jl:175</a></li> <li> muladd<i>{Ty}</i>(x::<b>AbstractFloat</b>, y::<b>ForwardDiff.Dual{Ty,V,N} where N where V</b>, z::<b>Real</b>) in ForwardDiff at <a href=\"file:///home/hp/.julia/packages/ForwardDiff/KHAmA/src/dual.jl\" target=\"_blank\">/home/hp/.julia/packages/ForwardDiff/KHAmA/src/dual.jl:168</a></li> <li> muladd<i>{Tz}</i>(x::<b>AbstractFloat</b>, y::<b>AbstractFloat</b>, z::<b>ForwardDiff.Dual{Tz,V,N} where N where V</b>) in ForwardDiff at <a href=\"file:///home/hp/.julia/packages/ForwardDiff/KHAmA/src/dual.jl\" target=\"_blank\">/home/hp/.julia/packages/ForwardDiff/KHAmA/src/dual.jl:176</a></li> <li> muladd<i>{Tz}</i>(x::<b>AbstractFloat</b>, y::<b>Real</b>, z::<b>ForwardDiff.Dual{Tz,V,N} where N where V</b>) in ForwardDiff at <a href=\"file:///home/hp/.julia/packages/ForwardDiff/KHAmA/src/dual.jl\" target=\"_blank\">/home/hp/.julia/packages/ForwardDiff/KHAmA/src/dual.jl:169</a></li> <li> muladd<i>{Txy}</i>(x::<b>ForwardDiff.Dual{Txy,V,N} where N where V</b>, y::<b>ForwardDiff.Dual{Txy,V,N} where N where V</b>, z::<b>Irrational</b>) in ForwardDiff at <a href=\"file:///home/hp/.julia/packages/ForwardDiff/KHAmA/src/dual.jl\" target=\"_blank\">/home/hp/.julia/packages/ForwardDiff/KHAmA/src/dual.jl:156</a></li> <li> muladd<i>{Tx, Ty}</i>(x::<b>ForwardDiff.Dual{Tx,V,N} where N where V</b>, y::<b>ForwardDiff.Dual{Ty,V,N} where N where V</b>, z::<b>Irrational</b>) in ForwardDiff at <a href=\"file:///home/hp/.julia/packages/ForwardDiff/KHAmA/src/dual.jl\" target=\"_blank\">/home/hp/.julia/packages/ForwardDiff/KHAmA/src/dual.jl:157</a></li> <li> muladd<i>{Txz}</i>(x::<b>ForwardDiff.Dual{Txz,V,N} where N where V</b>, y::<b>Irrational</b>, z::<b>ForwardDiff.Dual{Txz,V,N} where N where V</b>) in ForwardDiff at <a href=\"file:///home/hp/.julia/packages/ForwardDiff/KHAmA/src/dual.jl\" target=\"_blank\">/home/hp/.julia/packages/ForwardDiff/KHAmA/src/dual.jl:158</a></li> <li> muladd<i>{Tx, Tz}</i>(x::<b>ForwardDiff.Dual{Tx,V,N} where N where V</b>, y::<b>Irrational</b>, z::<b>ForwardDiff.Dual{Tz,V,N} where N where V</b>) in ForwardDiff at <a href=\"file:///home/hp/.julia/packages/ForwardDiff/KHAmA/src/dual.jl\" target=\"_blank\">/home/hp/.julia/packages/ForwardDiff/KHAmA/src/dual.jl:159</a></li> <li> muladd<i>{Tyz}</i>(x::<b>Irrational</b>, y::<b>ForwardDiff.Dual{Tyz,V,N} where N where V</b>, z::<b>ForwardDiff.Dual{Tyz,V,N} where N where V</b>) in ForwardDiff at <a href=\"file:///home/hp/.julia/packages/ForwardDiff/KHAmA/src/dual.jl\" target=\"_blank\">/home/hp/.julia/packages/ForwardDiff/KHAmA/src/dual.jl:160</a></li> <li> muladd<i>{Ty, Tz}</i>(x::<b>Irrational</b>, y::<b>ForwardDiff.Dual{Ty,V,N} where N where V</b>, z::<b>ForwardDiff.Dual{Tz,V,N} where N where V</b>) in ForwardDiff at <a href=\"file:///home/hp/.julia/packages/ForwardDiff/KHAmA/src/dual.jl\" target=\"_blank\">/home/hp/.julia/packages/ForwardDiff/KHAmA/src/dual.jl:161</a></li> <li> muladd<i>{Tx}</i>(x::<b>ForwardDiff.Dual{Tx,V,N} where N where V</b>, y::<b>Irrational</b>, z::<b>AbstractFloat</b>) in ForwardDiff at <a href=\"file:///home/hp/.julia/packages/ForwardDiff/KHAmA/src/dual.jl\" target=\"_blank\">/home/hp/.julia/packages/ForwardDiff/KHAmA/src/dual.jl:167</a></li> <li> muladd<i>{Ty}</i>(x::<b>Irrational</b>, y::<b>ForwardDiff.Dual{Ty,V,N} where N where V</b>, z::<b>AbstractFloat</b>) in ForwardDiff at <a href=\"file:///home/hp/.julia/packages/ForwardDiff/KHAmA/src/dual.jl\" target=\"_blank\">/home/hp/.julia/packages/ForwardDiff/KHAmA/src/dual.jl:168</a></li> <li> muladd<i>{Tz}</i>(x::<b>Irrational</b>, y::<b>AbstractFloat</b>, z::<b>ForwardDiff.Dual{Tz,V,N} where N where V</b>) in ForwardDiff at <a href=\"file:///home/hp/.julia/packages/ForwardDiff/KHAmA/src/dual.jl\" target=\"_blank\">/home/hp/.julia/packages/ForwardDiff/KHAmA/src/dual.jl:169</a></li> <li> muladd<i>{Tx}</i>(x::<b>ForwardDiff.Dual{Tx,V,N} where N where V</b>, y::<b>Irrational</b>, z::<b>Integer</b>) in ForwardDiff at <a href=\"file:///home/hp/.julia/packages/ForwardDiff/KHAmA/src/dual.jl\" target=\"_blank\">/home/hp/.julia/packages/ForwardDiff/KHAmA/src/dual.jl:167</a></li> <li> muladd<i>{Ty}</i>(x::<b>Irrational</b>, y::<b>ForwardDiff.Dual{Ty,V,N} where N where V</b>, z::<b>Integer</b>) in ForwardDiff at <a href=\"file:///home/hp/.julia/packages/ForwardDiff/KHAmA/src/dual.jl\" target=\"_blank\">/home/hp/.julia/packages/ForwardDiff/KHAmA/src/dual.jl:168</a></li> <li> muladd<i>{Tz}</i>(x::<b>Irrational</b>, y::<b>Integer</b>, z::<b>ForwardDiff.Dual{Tz,V,N} where N where V</b>) in ForwardDiff at <a href=\"file:///home/hp/.julia/packages/ForwardDiff/KHAmA/src/dual.jl\" target=\"_blank\">/home/hp/.julia/packages/ForwardDiff/KHAmA/src/dual.jl:169</a></li> <li> muladd<i>{Tx}</i>(x::<b>ForwardDiff.Dual{Tx,V,N} where N where V</b>, y::<b>Irrational</b>, z::<b>Rational</b>) in ForwardDiff at <a href=\"file:///home/hp/.julia/packages/ForwardDiff/KHAmA/src/dual.jl\" target=\"_blank\">/home/hp/.julia/packages/ForwardDiff/KHAmA/src/dual.jl:167</a></li> <li> muladd<i>{Ty}</i>(x::<b>Irrational</b>, y::<b>ForwardDiff.Dual{Ty,V,N} where N where V</b>, z::<b>Rational</b>) in ForwardDiff at <a href=\"file:///home/hp/.julia/packages/ForwardDiff/KHAmA/src/dual.jl\" target=\"_blank\">/home/hp/.julia/packages/ForwardDiff/KHAmA/src/dual.jl:168</a></li> <li> muladd<i>{Tz}</i>(x::<b>Irrational</b>, y::<b>Rational</b>, z::<b>ForwardDiff.Dual{Tz,V,N} where N where V</b>) in ForwardDiff at <a href=\"file:///home/hp/.julia/packages/ForwardDiff/KHAmA/src/dual.jl\" target=\"_blank\">/home/hp/.julia/packages/ForwardDiff/KHAmA/src/dual.jl:169</a></li> <li> muladd<i>{Tx}</i>(x::<b>ForwardDiff.Dual{Tx,V,N} where N where V</b>, y::<b>Irrational</b>, z::<b>Irrational</b>) in ForwardDiff at <a href=\"file:///home/hp/.julia/packages/ForwardDiff/KHAmA/src/dual.jl\" target=\"_blank\">/home/hp/.julia/packages/ForwardDiff/KHAmA/src/dual.jl:174</a></li> <li> muladd<i>{Tx}</i>(x::<b>ForwardDiff.Dual{Tx,V,N} where N where V</b>, y::<b>Irrational</b>, z::<b>Real</b>) in ForwardDiff at <a href=\"file:///home/hp/.julia/packages/ForwardDiff/KHAmA/src/dual.jl\" target=\"_blank\">/home/hp/.julia/packages/ForwardDiff/KHAmA/src/dual.jl:167</a></li> <li> muladd<i>{Ty}</i>(x::<b>Irrational</b>, y::<b>ForwardDiff.Dual{Ty,V,N} where N where V</b>, z::<b>Irrational</b>) in ForwardDiff at <a href=\"file:///home/hp/.julia/packages/ForwardDiff/KHAmA/src/dual.jl\" target=\"_blank\">/home/hp/.julia/packages/ForwardDiff/KHAmA/src/dual.jl:175</a></li> <li> muladd<i>{Ty}</i>(x::<b>Irrational</b>, y::<b>ForwardDiff.Dual{Ty,V,N} where N where V</b>, z::<b>Real</b>) in ForwardDiff at <a href=\"file:///home/hp/.julia/packages/ForwardDiff/KHAmA/src/dual.jl\" target=\"_blank\">/home/hp/.julia/packages/ForwardDiff/KHAmA/src/dual.jl:168</a></li> <li> muladd<i>{Tz}</i>(x::<b>Irrational</b>, y::<b>Irrational</b>, z::<b>ForwardDiff.Dual{Tz,V,N} where N where V</b>) in ForwardDiff at <a href=\"file:///home/hp/.julia/packages/ForwardDiff/KHAmA/src/dual.jl\" target=\"_blank\">/home/hp/.julia/packages/ForwardDiff/KHAmA/src/dual.jl:176</a></li> <li> muladd<i>{Tz}</i>(x::<b>Irrational</b>, y::<b>Real</b>, z::<b>ForwardDiff.Dual{Tz,V,N} where N where V</b>) in ForwardDiff at <a href=\"file:///home/hp/.julia/packages/ForwardDiff/KHAmA/src/dual.jl\" target=\"_blank\">/home/hp/.julia/packages/ForwardDiff/KHAmA/src/dual.jl:169</a></li> <li> muladd<i>{Txy}</i>(x::<b>ForwardDiff.Dual{Txy,V,N} where N where V</b>, y::<b>ForwardDiff.Dual{Txy,V,N} where N where V</b>, z::<b>Integer</b>) in ForwardDiff at <a href=\"file:///home/hp/.julia/packages/ForwardDiff/KHAmA/src/dual.jl\" target=\"_blank\">/home/hp/.julia/packages/ForwardDiff/KHAmA/src/dual.jl:156</a></li> <li> muladd<i>{Tx, Ty}</i>(x::<b>ForwardDiff.Dual{Tx,V,N} where N where V</b>, y::<b>ForwardDiff.Dual{Ty,V,N} where N where V</b>, z::<b>Integer</b>) in ForwardDiff at <a href=\"file:///home/hp/.julia/packages/ForwardDiff/KHAmA/src/dual.jl\" target=\"_blank\">/home/hp/.julia/packages/ForwardDiff/KHAmA/src/dual.jl:157</a></li> <li> muladd<i>{Txz}</i>(x::<b>ForwardDiff.Dual{Txz,V,N} where N where V</b>, y::<b>Integer</b>, z::<b>ForwardDiff.Dual{Txz,V,N} where N where V</b>) in ForwardDiff at <a href=\"file:///home/hp/.julia/packages/ForwardDiff/KHAmA/src/dual.jl\" target=\"_blank\">/home/hp/.julia/packages/ForwardDiff/KHAmA/src/dual.jl:158</a></li> <li> muladd<i>{Tx, Tz}</i>(x::<b>ForwardDiff.Dual{Tx,V,N} where N where V</b>, y::<b>Integer</b>, z::<b>ForwardDiff.Dual{Tz,V,N} where N where V</b>) in ForwardDiff at <a href=\"file:///home/hp/.julia/packages/ForwardDiff/KHAmA/src/dual.jl\" target=\"_blank\">/home/hp/.julia/packages/ForwardDiff/KHAmA/src/dual.jl:159</a></li> <li> muladd<i>{Tyz}</i>(x::<b>Integer</b>, y::<b>ForwardDiff.Dual{Tyz,V,N} where N where V</b>, z::<b>ForwardDiff.Dual{Tyz,V,N} where N where V</b>) in ForwardDiff at <a href=\"file:///home/hp/.julia/packages/ForwardDiff/KHAmA/src/dual.jl\" target=\"_blank\">/home/hp/.julia/packages/ForwardDiff/KHAmA/src/dual.jl:160</a></li> <li> muladd<i>{Ty, Tz}</i>(x::<b>Integer</b>, y::<b>ForwardDiff.Dual{Ty,V,N} where N where V</b>, z::<b>ForwardDiff.Dual{Tz,V,N} where N where V</b>) in ForwardDiff at <a href=\"file:///home/hp/.julia/packages/ForwardDiff/KHAmA/src/dual.jl\" target=\"_blank\">/home/hp/.julia/packages/ForwardDiff/KHAmA/src/dual.jl:161</a></li> <li> muladd<i>{Tx}</i>(x::<b>ForwardDiff.Dual{Tx,V,N} where N where V</b>, y::<b>Integer</b>, z::<b>AbstractFloat</b>) in ForwardDiff at <a href=\"file:///home/hp/.julia/packages/ForwardDiff/KHAmA/src/dual.jl\" target=\"_blank\">/home/hp/.julia/packages/ForwardDiff/KHAmA/src/dual.jl:167</a></li> <li> muladd<i>{Ty}</i>(x::<b>Integer</b>, y::<b>ForwardDiff.Dual{Ty,V,N} where N where V</b>, z::<b>AbstractFloat</b>) in ForwardDiff at <a href=\"file:///home/hp/.julia/packages/ForwardDiff/KHAmA/src/dual.jl\" target=\"_blank\">/home/hp/.julia/packages/ForwardDiff/KHAmA/src/dual.jl:168</a></li> <li> muladd<i>{Tz}</i>(x::<b>Integer</b>, y::<b>AbstractFloat</b>, z::<b>ForwardDiff.Dual{Tz,V,N} where N where V</b>) in ForwardDiff at <a href=\"file:///home/hp/.julia/packages/ForwardDiff/KHAmA/src/dual.jl\" target=\"_blank\">/home/hp/.julia/packages/ForwardDiff/KHAmA/src/dual.jl:169</a></li> <li> muladd<i>{Tx}</i>(x::<b>ForwardDiff.Dual{Tx,V,N} where N where V</b>, y::<b>Integer</b>, z::<b>Irrational</b>) in ForwardDiff at <a href=\"file:///home/hp/.julia/packages/ForwardDiff/KHAmA/src/dual.jl\" target=\"_blank\">/home/hp/.julia/packages/ForwardDiff/KHAmA/src/dual.jl:167</a></li> <li> muladd<i>{Ty}</i>(x::<b>Integer</b>, y::<b>ForwardDiff.Dual{Ty,V,N} where N where V</b>, z::<b>Irrational</b>) in ForwardDiff at <a href=\"file:///home/hp/.julia/packages/ForwardDiff/KHAmA/src/dual.jl\" target=\"_blank\">/home/hp/.julia/packages/ForwardDiff/KHAmA/src/dual.jl:168</a></li> <li> muladd<i>{Tz}</i>(x::<b>Integer</b>, y::<b>Irrational</b>, z::<b>ForwardDiff.Dual{Tz,V,N} where N where V</b>) in ForwardDiff at <a href=\"file:///home/hp/.julia/packages/ForwardDiff/KHAmA/src/dual.jl\" target=\"_blank\">/home/hp/.julia/packages/ForwardDiff/KHAmA/src/dual.jl:169</a></li> <li> muladd<i>{Tx}</i>(x::<b>ForwardDiff.Dual{Tx,V,N} where N where V</b>, y::<b>Integer</b>, z::<b>Rational</b>) in ForwardDiff at <a href=\"file:///home/hp/.julia/packages/ForwardDiff/KHAmA/src/dual.jl\" target=\"_blank\">/home/hp/.julia/packages/ForwardDiff/KHAmA/src/dual.jl:167</a></li> <li> muladd<i>{Ty}</i>(x::<b>Integer</b>, y::<b>ForwardDiff.Dual{Ty,V,N} where N where V</b>, z::<b>Rational</b>) in ForwardDiff at <a href=\"file:///home/hp/.julia/packages/ForwardDiff/KHAmA/src/dual.jl\" target=\"_blank\">/home/hp/.julia/packages/ForwardDiff/KHAmA/src/dual.jl:168</a></li> <li> muladd<i>{Tz}</i>(x::<b>Integer</b>, y::<b>Rational</b>, z::<b>ForwardDiff.Dual{Tz,V,N} where N where V</b>) in ForwardDiff at <a href=\"file:///home/hp/.julia/packages/ForwardDiff/KHAmA/src/dual.jl\" target=\"_blank\">/home/hp/.julia/packages/ForwardDiff/KHAmA/src/dual.jl:169</a></li> <li> muladd<i>{Tx}</i>(x::<b>ForwardDiff.Dual{Tx,V,N} where N where V</b>, y::<b>Integer</b>, z::<b>Integer</b>) in ForwardDiff at <a href=\"file:///home/hp/.julia/packages/ForwardDiff/KHAmA/src/dual.jl\" target=\"_blank\">/home/hp/.julia/packages/ForwardDiff/KHAmA/src/dual.jl:174</a></li> <li> muladd<i>{Tx}</i>(x::<b>ForwardDiff.Dual{Tx,V,N} where N where V</b>, y::<b>Integer</b>, z::<b>Real</b>) in ForwardDiff at <a href=\"file:///home/hp/.julia/packages/ForwardDiff/KHAmA/src/dual.jl\" target=\"_blank\">/home/hp/.julia/packages/ForwardDiff/KHAmA/src/dual.jl:167</a></li> <li> muladd<i>{Ty}</i>(x::<b>Integer</b>, y::<b>ForwardDiff.Dual{Ty,V,N} where N where V</b>, z::<b>Integer</b>) in ForwardDiff at <a href=\"file:///home/hp/.julia/packages/ForwardDiff/KHAmA/src/dual.jl\" target=\"_blank\">/home/hp/.julia/packages/ForwardDiff/KHAmA/src/dual.jl:175</a></li> <li> muladd<i>{Ty}</i>(x::<b>Integer</b>, y::<b>ForwardDiff.Dual{Ty,V,N} where N where V</b>, z::<b>Real</b>) in ForwardDiff at <a href=\"file:///home/hp/.julia/packages/ForwardDiff/KHAmA/src/dual.jl\" target=\"_blank\">/home/hp/.julia/packages/ForwardDiff/KHAmA/src/dual.jl:168</a></li> <li> muladd<i>{Tz}</i>(x::<b>Integer</b>, y::<b>Integer</b>, z::<b>ForwardDiff.Dual{Tz,V,N} where N where V</b>) in ForwardDiff at <a href=\"file:///home/hp/.julia/packages/ForwardDiff/KHAmA/src/dual.jl\" target=\"_blank\">/home/hp/.julia/packages/ForwardDiff/KHAmA/src/dual.jl:176</a></li> <li> muladd<i>{Tz}</i>(x::<b>Integer</b>, y::<b>Real</b>, z::<b>ForwardDiff.Dual{Tz,V,N} where N where V</b>) in ForwardDiff at <a href=\"file:///home/hp/.julia/packages/ForwardDiff/KHAmA/src/dual.jl\" target=\"_blank\">/home/hp/.julia/packages/ForwardDiff/KHAmA/src/dual.jl:169</a></li> <li> muladd<i>{Txy}</i>(x::<b>ForwardDiff.Dual{Txy,V,N} where N where V</b>, y::<b>ForwardDiff.Dual{Txy,V,N} where N where V</b>, z::<b>Rational</b>) in ForwardDiff at <a href=\"file:///home/hp/.julia/packages/ForwardDiff/KHAmA/src/dual.jl\" target=\"_blank\">/home/hp/.julia/packages/ForwardDiff/KHAmA/src/dual.jl:156</a></li> <li> muladd<i>{Tx, Ty}</i>(x::<b>ForwardDiff.Dual{Tx,V,N} where N where V</b>, y::<b>ForwardDiff.Dual{Ty,V,N} where N where V</b>, z::<b>Rational</b>) in ForwardDiff at <a href=\"file:///home/hp/.julia/packages/ForwardDiff/KHAmA/src/dual.jl\" target=\"_blank\">/home/hp/.julia/packages/ForwardDiff/KHAmA/src/dual.jl:157</a></li> <li> muladd<i>{Txz}</i>(x::<b>ForwardDiff.Dual{Txz,V,N} where N where V</b>, y::<b>Rational</b>, z::<b>ForwardDiff.Dual{Txz,V,N} where N where V</b>) in ForwardDiff at <a href=\"file:///home/hp/.julia/packages/ForwardDiff/KHAmA/src/dual.jl\" target=\"_blank\">/home/hp/.julia/packages/ForwardDiff/KHAmA/src/dual.jl:158</a></li> <li> muladd<i>{Tx, Tz}</i>(x::<b>ForwardDiff.Dual{Tx,V,N} where N where V</b>, y::<b>Rational</b>, z::<b>ForwardDiff.Dual{Tz,V,N} where N where V</b>) in ForwardDiff at <a href=\"file:///home/hp/.julia/packages/ForwardDiff/KHAmA/src/dual.jl\" target=\"_blank\">/home/hp/.julia/packages/ForwardDiff/KHAmA/src/dual.jl:159</a></li> <li> muladd<i>{Tyz}</i>(x::<b>Rational</b>, y::<b>ForwardDiff.Dual{Tyz,V,N} where N where V</b>, z::<b>ForwardDiff.Dual{Tyz,V,N} where N where V</b>) in ForwardDiff at <a href=\"file:///home/hp/.julia/packages/ForwardDiff/KHAmA/src/dual.jl\" target=\"_blank\">/home/hp/.julia/packages/ForwardDiff/KHAmA/src/dual.jl:160</a></li> <li> muladd<i>{Ty, Tz}</i>(x::<b>Rational</b>, y::<b>ForwardDiff.Dual{Ty,V,N} where N where V</b>, z::<b>ForwardDiff.Dual{Tz,V,N} where N where V</b>) in ForwardDiff at <a href=\"file:///home/hp/.julia/packages/ForwardDiff/KHAmA/src/dual.jl\" target=\"_blank\">/home/hp/.julia/packages/ForwardDiff/KHAmA/src/dual.jl:161</a></li> <li> muladd<i>{Tx}</i>(x::<b>ForwardDiff.Dual{Tx,V,N} where N where V</b>, y::<b>Rational</b>, z::<b>AbstractFloat</b>) in ForwardDiff at <a href=\"file:///home/hp/.julia/packages/ForwardDiff/KHAmA/src/dual.jl\" target=\"_blank\">/home/hp/.julia/packages/ForwardDiff/KHAmA/src/dual.jl:167</a></li> <li> muladd<i>{Ty}</i>(x::<b>Rational</b>, y::<b>ForwardDiff.Dual{Ty,V,N} where N where V</b>, z::<b>AbstractFloat</b>) in ForwardDiff at <a href=\"file:///home/hp/.julia/packages/ForwardDiff/KHAmA/src/dual.jl\" target=\"_blank\">/home/hp/.julia/packages/ForwardDiff/KHAmA/src/dual.jl:168</a></li> <li> muladd<i>{Tz}</i>(x::<b>Rational</b>, y::<b>AbstractFloat</b>, z::<b>ForwardDiff.Dual{Tz,V,N} where N where V</b>) in ForwardDiff at <a href=\"file:///home/hp/.julia/packages/ForwardDiff/KHAmA/src/dual.jl\" target=\"_blank\">/home/hp/.julia/packages/ForwardDiff/KHAmA/src/dual.jl:169</a></li> <li> muladd<i>{Tx}</i>(x::<b>ForwardDiff.Dual{Tx,V,N} where N where V</b>, y::<b>Rational</b>, z::<b>Irrational</b>) in ForwardDiff at <a href=\"file:///home/hp/.julia/packages/ForwardDiff/KHAmA/src/dual.jl\" target=\"_blank\">/home/hp/.julia/packages/ForwardDiff/KHAmA/src/dual.jl:167</a></li> <li> muladd<i>{Ty}</i>(x::<b>Rational</b>, y::<b>ForwardDiff.Dual{Ty,V,N} where N where V</b>, z::<b>Irrational</b>) in ForwardDiff at <a href=\"file:///home/hp/.julia/packages/ForwardDiff/KHAmA/src/dual.jl\" target=\"_blank\">/home/hp/.julia/packages/ForwardDiff/KHAmA/src/dual.jl:168</a></li> <li> muladd<i>{Tz}</i>(x::<b>Rational</b>, y::<b>Irrational</b>, z::<b>ForwardDiff.Dual{Tz,V,N} where N where V</b>) in ForwardDiff at <a href=\"file:///home/hp/.julia/packages/ForwardDiff/KHAmA/src/dual.jl\" target=\"_blank\">/home/hp/.julia/packages/ForwardDiff/KHAmA/src/dual.jl:169</a></li> <li> muladd<i>{Tx}</i>(x::<b>ForwardDiff.Dual{Tx,V,N} where N where V</b>, y::<b>Rational</b>, z::<b>Integer</b>) in ForwardDiff at <a href=\"file:///home/hp/.julia/packages/ForwardDiff/KHAmA/src/dual.jl\" target=\"_blank\">/home/hp/.julia/packages/ForwardDiff/KHAmA/src/dual.jl:167</a></li> <li> muladd<i>{Ty}</i>(x::<b>Rational</b>, y::<b>ForwardDiff.Dual{Ty,V,N} where N where V</b>, z::<b>Integer</b>) in ForwardDiff at <a href=\"file:///home/hp/.julia/packages/ForwardDiff/KHAmA/src/dual.jl\" target=\"_blank\">/home/hp/.julia/packages/ForwardDiff/KHAmA/src/dual.jl:168</a></li> <li> muladd<i>{Tz}</i>(x::<b>Rational</b>, y::<b>Integer</b>, z::<b>ForwardDiff.Dual{Tz,V,N} where N where V</b>) in ForwardDiff at <a href=\"file:///home/hp/.julia/packages/ForwardDiff/KHAmA/src/dual.jl\" target=\"_blank\">/home/hp/.julia/packages/ForwardDiff/KHAmA/src/dual.jl:169</a></li> <li> muladd<i>{Tx}</i>(x::<b>ForwardDiff.Dual{Tx,V,N} where N where V</b>, y::<b>Rational</b>, z::<b>Rational</b>) in ForwardDiff at <a href=\"file:///home/hp/.julia/packages/ForwardDiff/KHAmA/src/dual.jl\" target=\"_blank\">/home/hp/.julia/packages/ForwardDiff/KHAmA/src/dual.jl:174</a></li> <li> muladd<i>{Tx}</i>(x::<b>ForwardDiff.Dual{Tx,V,N} where N where V</b>, y::<b>Rational</b>, z::<b>Real</b>) in ForwardDiff at <a href=\"file:///home/hp/.julia/packages/ForwardDiff/KHAmA/src/dual.jl\" target=\"_blank\">/home/hp/.julia/packages/ForwardDiff/KHAmA/src/dual.jl:167</a></li> <li> muladd<i>{Ty}</i>(x::<b>Rational</b>, y::<b>ForwardDiff.Dual{Ty,V,N} where N where V</b>, z::<b>Rational</b>) in ForwardDiff at <a href=\"file:///home/hp/.julia/packages/ForwardDiff/KHAmA/src/dual.jl\" target=\"_blank\">/home/hp/.julia/packages/ForwardDiff/KHAmA/src/dual.jl:175</a></li> <li> muladd<i>{Ty}</i>(x::<b>Rational</b>, y::<b>ForwardDiff.Dual{Ty,V,N} where N where V</b>, z::<b>Real</b>) in ForwardDiff at <a href=\"file:///home/hp/.julia/packages/ForwardDiff/KHAmA/src/dual.jl\" target=\"_blank\">/home/hp/.julia/packages/ForwardDiff/KHAmA/src/dual.jl:168</a></li> <li> muladd<i>{Tz}</i>(x::<b>Rational</b>, y::<b>Rational</b>, z::<b>ForwardDiff.Dual{Tz,V,N} where N where V</b>) in ForwardDiff at <a href=\"file:///home/hp/.julia/packages/ForwardDiff/KHAmA/src/dual.jl\" target=\"_blank\">/home/hp/.julia/packages/ForwardDiff/KHAmA/src/dual.jl:176</a></li> <li> muladd<i>{Tz}</i>(x::<b>Rational</b>, y::<b>Real</b>, z::<b>ForwardDiff.Dual{Tz,V,N} where N where V</b>) in ForwardDiff at <a href=\"file:///home/hp/.julia/packages/ForwardDiff/KHAmA/src/dual.jl\" target=\"_blank\">/home/hp/.julia/packages/ForwardDiff/KHAmA/src/dual.jl:169</a></li> <li> muladd<i>{Txy}</i>(x::<b>ForwardDiff.Dual{Txy,V,N} where N where V</b>, y::<b>ForwardDiff.Dual{Txy,V,N} where N where V</b>, z::<b>Real</b>) in ForwardDiff at <a href=\"file:///home/hp/.julia/packages/ForwardDiff/KHAmA/src/dual.jl\" target=\"_blank\">/home/hp/.julia/packages/ForwardDiff/KHAmA/src/dual.jl:156</a></li> <li> muladd<i>{Tx, Ty}</i>(x::<b>ForwardDiff.Dual{Tx,V,N} where N where V</b>, y::<b>ForwardDiff.Dual{Ty,V,N} where N where V</b>, z::<b>Real</b>) in ForwardDiff at <a href=\"file:///home/hp/.julia/packages/ForwardDiff/KHAmA/src/dual.jl\" target=\"_blank\">/home/hp/.julia/packages/ForwardDiff/KHAmA/src/dual.jl:157</a></li> <li> muladd<i>{Txz}</i>(x::<b>ForwardDiff.Dual{Txz,V,N} where N where V</b>, y::<b>Real</b>, z::<b>ForwardDiff.Dual{Txz,V,N} where N where V</b>) in ForwardDiff at <a href=\"file:///home/hp/.julia/packages/ForwardDiff/KHAmA/src/dual.jl\" target=\"_blank\">/home/hp/.julia/packages/ForwardDiff/KHAmA/src/dual.jl:158</a></li> <li> muladd<i>{Tx, Tz}</i>(x::<b>ForwardDiff.Dual{Tx,V,N} where N where V</b>, y::<b>Real</b>, z::<b>ForwardDiff.Dual{Tz,V,N} where N where V</b>) in ForwardDiff at <a href=\"file:///home/hp/.julia/packages/ForwardDiff/KHAmA/src/dual.jl\" target=\"_blank\">/home/hp/.julia/packages/ForwardDiff/KHAmA/src/dual.jl:159</a></li> <li> muladd<i>{Tyz}</i>(x::<b>Real</b>, y::<b>ForwardDiff.Dual{Tyz,V,N} where N where V</b>, z::<b>ForwardDiff.Dual{Tyz,V,N} where N where V</b>) in ForwardDiff at <a href=\"file:///home/hp/.julia/packages/ForwardDiff/KHAmA/src/dual.jl\" target=\"_blank\">/home/hp/.julia/packages/ForwardDiff/KHAmA/src/dual.jl:160</a></li> <li> muladd<i>{Ty, Tz}</i>(x::<b>Real</b>, y::<b>ForwardDiff.Dual{Ty,V,N} where N where V</b>, z::<b>ForwardDiff.Dual{Tz,V,N} where N where V</b>) in ForwardDiff at <a href=\"file:///home/hp/.julia/packages/ForwardDiff/KHAmA/src/dual.jl\" target=\"_blank\">/home/hp/.julia/packages/ForwardDiff/KHAmA/src/dual.jl:161</a></li> <li> muladd<i>{Tx}</i>(x::<b>ForwardDiff.Dual{Tx,V,N} where N where V</b>, y::<b>Real</b>, z::<b>AbstractFloat</b>) in ForwardDiff at <a href=\"file:///home/hp/.julia/packages/ForwardDiff/KHAmA/src/dual.jl\" target=\"_blank\">/home/hp/.julia/packages/ForwardDiff/KHAmA/src/dual.jl:167</a></li> <li> muladd<i>{Ty}</i>(x::<b>Real</b>, y::<b>ForwardDiff.Dual{Ty,V,N} where N where V</b>, z::<b>AbstractFloat</b>) in ForwardDiff at <a href=\"file:///home/hp/.julia/packages/ForwardDiff/KHAmA/src/dual.jl\" target=\"_blank\">/home/hp/.julia/packages/ForwardDiff/KHAmA/src/dual.jl:168</a></li> <li> muladd<i>{Tz}</i>(x::<b>Real</b>, y::<b>AbstractFloat</b>, z::<b>ForwardDiff.Dual{Tz,V,N} where N where V</b>) in ForwardDiff at <a href=\"file:///home/hp/.julia/packages/ForwardDiff/KHAmA/src/dual.jl\" target=\"_blank\">/home/hp/.julia/packages/ForwardDiff/KHAmA/src/dual.jl:169</a></li> <li> muladd<i>{Tx}</i>(x::<b>ForwardDiff.Dual{Tx,V,N} where N where V</b>, y::<b>Real</b>, z::<b>Irrational</b>) in ForwardDiff at <a href=\"file:///home/hp/.julia/packages/ForwardDiff/KHAmA/src/dual.jl\" target=\"_blank\">/home/hp/.julia/packages/ForwardDiff/KHAmA/src/dual.jl:167</a></li> <li> muladd<i>{Ty}</i>(x::<b>Real</b>, y::<b>ForwardDiff.Dual{Ty,V,N} where N where V</b>, z::<b>Irrational</b>) in ForwardDiff at <a href=\"file:///home/hp/.julia/packages/ForwardDiff/KHAmA/src/dual.jl\" target=\"_blank\">/home/hp/.julia/packages/ForwardDiff/KHAmA/src/dual.jl:168</a></li> <li> muladd<i>{Tz}</i>(x::<b>Real</b>, y::<b>Irrational</b>, z::<b>ForwardDiff.Dual{Tz,V,N} where N where V</b>) in ForwardDiff at <a href=\"file:///home/hp/.julia/packages/ForwardDiff/KHAmA/src/dual.jl\" target=\"_blank\">/home/hp/.julia/packages/ForwardDiff/KHAmA/src/dual.jl:169</a></li> <li> muladd<i>{Tx}</i>(x::<b>ForwardDiff.Dual{Tx,V,N} where N where V</b>, y::<b>Real</b>, z::<b>Integer</b>) in ForwardDiff at <a href=\"file:///home/hp/.julia/packages/ForwardDiff/KHAmA/src/dual.jl\" target=\"_blank\">/home/hp/.julia/packages/ForwardDiff/KHAmA/src/dual.jl:167</a></li> <li> muladd<i>{Ty}</i>(x::<b>Real</b>, y::<b>ForwardDiff.Dual{Ty,V,N} where N where V</b>, z::<b>Integer</b>) in ForwardDiff at <a href=\"file:///home/hp/.julia/packages/ForwardDiff/KHAmA/src/dual.jl\" target=\"_blank\">/home/hp/.julia/packages/ForwardDiff/KHAmA/src/dual.jl:168</a></li> <li> muladd<i>{Tz}</i>(x::<b>Real</b>, y::<b>Integer</b>, z::<b>ForwardDiff.Dual{Tz,V,N} where N where V</b>) in ForwardDiff at <a href=\"file:///home/hp/.julia/packages/ForwardDiff/KHAmA/src/dual.jl\" target=\"_blank\">/home/hp/.julia/packages/ForwardDiff/KHAmA/src/dual.jl:169</a></li> <li> muladd<i>{Tx}</i>(x::<b>ForwardDiff.Dual{Tx,V,N} where N where V</b>, y::<b>Real</b>, z::<b>Rational</b>) in ForwardDiff at <a href=\"file:///home/hp/.julia/packages/ForwardDiff/KHAmA/src/dual.jl\" target=\"_blank\">/home/hp/.julia/packages/ForwardDiff/KHAmA/src/dual.jl:167</a></li> <li> muladd<i>{Ty}</i>(x::<b>Real</b>, y::<b>ForwardDiff.Dual{Ty,V,N} where N where V</b>, z::<b>Rational</b>) in ForwardDiff at <a href=\"file:///home/hp/.julia/packages/ForwardDiff/KHAmA/src/dual.jl\" target=\"_blank\">/home/hp/.julia/packages/ForwardDiff/KHAmA/src/dual.jl:168</a></li> <li> muladd<i>{Tz}</i>(x::<b>Real</b>, y::<b>Rational</b>, z::<b>ForwardDiff.Dual{Tz,V,N} where N where V</b>) in ForwardDiff at <a href=\"file:///home/hp/.julia/packages/ForwardDiff/KHAmA/src/dual.jl\" target=\"_blank\">/home/hp/.julia/packages/ForwardDiff/KHAmA/src/dual.jl:169</a></li> <li> muladd<i>{Tx}</i>(x::<b>ForwardDiff.Dual{Tx,V,N} where N where V</b>, y::<b>Real</b>, z::<b>Real</b>) in ForwardDiff at <a href=\"file:///home/hp/.julia/packages/ForwardDiff/KHAmA/src/dual.jl\" target=\"_blank\">/home/hp/.julia/packages/ForwardDiff/KHAmA/src/dual.jl:174</a></li> <li> muladd<i>{Ty}</i>(x::<b>Real</b>, y::<b>ForwardDiff.Dual{Ty,V,N} where N where V</b>, z::<b>Real</b>) in ForwardDiff at <a href=\"file:///home/hp/.julia/packages/ForwardDiff/KHAmA/src/dual.jl\" target=\"_blank\">/home/hp/.julia/packages/ForwardDiff/KHAmA/src/dual.jl:175</a></li> <li> muladd<i>{Tz}</i>(x::<b>Real</b>, y::<b>Real</b>, z::<b>ForwardDiff.Dual{Tz,V,N} where N where V</b>) in ForwardDiff at <a href=\"file:///home/hp/.julia/packages/ForwardDiff/KHAmA/src/dual.jl\" target=\"_blank\">/home/hp/.julia/packages/ForwardDiff/KHAmA/src/dual.jl:176</a></li> <li> muladd<i>{T<:Number}</i>(x::<b>T</b>, y::<b>T</b>, z::<b>T</b>) in Base at <a href=\"https://github.com/JuliaLang/julia/tree/099e826241fca365a120df9bac9a9fede6e7bae4/base/promotion.jl#L419\" target=\"_blank\">promotion.jl:419</a></li> <li> muladd(x::<b>Number</b>, y::<b>Number</b>, z::<b>Number</b>) in Base at <a href=\"https://github.com/JuliaLang/julia/tree/099e826241fca365a120df9bac9a9fede6e7bae4/base/promotion.jl#L348\" target=\"_blank\">promotion.jl:348</a></li> <li> muladd<i>{Tx}</i>(x::<b>ForwardDiff.Dual{Tx,V,N} where N where V</b>, y::<b>AbstractFloat</b>, z::<b>RoundingMode</b>) in ForwardDiff at <a href=\"file:///home/hp/.julia/packages/ForwardDiff/KHAmA/src/dual.jl\" target=\"_blank\">/home/hp/.julia/packages/ForwardDiff/KHAmA/src/dual.jl:167</a></li> <li> muladd<i>{Ty}</i>(x::<b>AbstractFloat</b>, y::<b>ForwardDiff.Dual{Ty,V,N} where N where V</b>, z::<b>RoundingMode</b>) in ForwardDiff at <a href=\"file:///home/hp/.julia/packages/ForwardDiff/KHAmA/src/dual.jl\" target=\"_blank\">/home/hp/.julia/packages/ForwardDiff/KHAmA/src/dual.jl:168</a></li> <li> muladd<i>{Tz}</i>(x::<b>AbstractFloat</b>, y::<b>RoundingMode</b>, z::<b>ForwardDiff.Dual{Tz,V,N} where N where V</b>) in ForwardDiff at <a href=\"file:///home/hp/.julia/packages/ForwardDiff/KHAmA/src/dual.jl\" target=\"_blank\">/home/hp/.julia/packages/ForwardDiff/KHAmA/src/dual.jl:169</a></li> <li> muladd<i>{Tx}</i>(x::<b>ForwardDiff.Dual{Tx,V,N} where N where V</b>, y::<b>Irrational</b>, z::<b>RoundingMode</b>) in ForwardDiff at <a href=\"file:///home/hp/.julia/packages/ForwardDiff/KHAmA/src/dual.jl\" target=\"_blank\">/home/hp/.julia/packages/ForwardDiff/KHAmA/src/dual.jl:167</a></li> <li> muladd<i>{Ty}</i>(x::<b>Irrational</b>, y::<b>ForwardDiff.Dual{Ty,V,N} where N where V</b>, z::<b>RoundingMode</b>) in ForwardDiff at <a href=\"file:///home/hp/.julia/packages/ForwardDiff/KHAmA/src/dual.jl\" target=\"_blank\">/home/hp/.julia/packages/ForwardDiff/KHAmA/src/dual.jl:168</a></li> <li> muladd<i>{Tz}</i>(x::<b>Irrational</b>, y::<b>RoundingMode</b>, z::<b>ForwardDiff.Dual{Tz,V,N} where N where V</b>) in ForwardDiff at <a href=\"file:///home/hp/.julia/packages/ForwardDiff/KHAmA/src/dual.jl\" target=\"_blank\">/home/hp/.julia/packages/ForwardDiff/KHAmA/src/dual.jl:169</a></li> <li> muladd<i>{Tx}</i>(x::<b>ForwardDiff.Dual{Tx,V,N} where N where V</b>, y::<b>Integer</b>, z::<b>RoundingMode</b>) in ForwardDiff at <a href=\"file:///home/hp/.julia/packages/ForwardDiff/KHAmA/src/dual.jl\" target=\"_blank\">/home/hp/.julia/packages/ForwardDiff/KHAmA/src/dual.jl:167</a></li> <li> muladd<i>{Ty}</i>(x::<b>Integer</b>, y::<b>ForwardDiff.Dual{Ty,V,N} where N where V</b>, z::<b>RoundingMode</b>) in ForwardDiff at <a href=\"file:///home/hp/.julia/packages/ForwardDiff/KHAmA/src/dual.jl\" target=\"_blank\">/home/hp/.julia/packages/ForwardDiff/KHAmA/src/dual.jl:168</a></li> <li> muladd<i>{Tz}</i>(x::<b>Integer</b>, y::<b>RoundingMode</b>, z::<b>ForwardDiff.Dual{Tz,V,N} where N where V</b>) in ForwardDiff at <a href=\"file:///home/hp/.julia/packages/ForwardDiff/KHAmA/src/dual.jl\" target=\"_blank\">/home/hp/.julia/packages/ForwardDiff/KHAmA/src/dual.jl:169</a></li> <li> muladd<i>{Tx}</i>(x::<b>ForwardDiff.Dual{Tx,V,N} where N where V</b>, y::<b>Rational</b>, z::<b>RoundingMode</b>) in ForwardDiff at <a href=\"file:///home/hp/.julia/packages/ForwardDiff/KHAmA/src/dual.jl\" target=\"_blank\">/home/hp/.julia/packages/ForwardDiff/KHAmA/src/dual.jl:167</a></li> <li> muladd<i>{Ty}</i>(x::<b>Rational</b>, y::<b>ForwardDiff.Dual{Ty,V,N} where N where V</b>, z::<b>RoundingMode</b>) in ForwardDiff at <a href=\"file:///home/hp/.julia/packages/ForwardDiff/KHAmA/src/dual.jl\" target=\"_blank\">/home/hp/.julia/packages/ForwardDiff/KHAmA/src/dual.jl:168</a></li> <li> muladd<i>{Tz}</i>(x::<b>Rational</b>, y::<b>RoundingMode</b>, z::<b>ForwardDiff.Dual{Tz,V,N} where N where V</b>) in ForwardDiff at <a href=\"file:///home/hp/.julia/packages/ForwardDiff/KHAmA/src/dual.jl\" target=\"_blank\">/home/hp/.julia/packages/ForwardDiff/KHAmA/src/dual.jl:169</a></li> <li> muladd<i>{Txy}</i>(x::<b>ForwardDiff.Dual{Txy,V,N} where N where V</b>, y::<b>ForwardDiff.Dual{Txy,V,N} where N where V</b>, z::<b>RoundingMode</b>) in ForwardDiff at <a href=\"file:///home/hp/.julia/packages/ForwardDiff/KHAmA/src/dual.jl\" target=\"_blank\">/home/hp/.julia/packages/ForwardDiff/KHAmA/src/dual.jl:156</a></li> <li> muladd<i>{Tx, Ty}</i>(x::<b>ForwardDiff.Dual{Tx,V,N} where N where V</b>, y::<b>ForwardDiff.Dual{Ty,V,N} where N where V</b>, z::<b>RoundingMode</b>) in ForwardDiff at <a href=\"file:///home/hp/.julia/packages/ForwardDiff/KHAmA/src/dual.jl\" target=\"_blank\">/home/hp/.julia/packages/ForwardDiff/KHAmA/src/dual.jl:157</a></li> <li> muladd<i>{Tx}</i>(x::<b>ForwardDiff.Dual{Tx,V,N} where N where V</b>, y::<b>Real</b>, z::<b>RoundingMode</b>) in ForwardDiff at <a href=\"file:///home/hp/.julia/packages/ForwardDiff/KHAmA/src/dual.jl\" target=\"_blank\">/home/hp/.julia/packages/ForwardDiff/KHAmA/src/dual.jl:167</a></li> <li> muladd<i>{Ty}</i>(x::<b>Real</b>, y::<b>ForwardDiff.Dual{Ty,V,N} where N where V</b>, z::<b>RoundingMode</b>) in ForwardDiff at <a href=\"file:///home/hp/.julia/packages/ForwardDiff/KHAmA/src/dual.jl\" target=\"_blank\">/home/hp/.julia/packages/ForwardDiff/KHAmA/src/dual.jl:168</a></li> <li> muladd<i>{Txz}</i>(x::<b>ForwardDiff.Dual{Txz,V,N} where N where V</b>, y::<b>RoundingMode</b>, z::<b>ForwardDiff.Dual{Txz,V,N} where N where V</b>) in ForwardDiff at <a href=\"file:///home/hp/.julia/packages/ForwardDiff/KHAmA/src/dual.jl\" target=\"_blank\">/home/hp/.julia/packages/ForwardDiff/KHAmA/src/dual.jl:158</a></li> <li> muladd<i>{Tx, Tz}</i>(x::<b>ForwardDiff.Dual{Tx,V,N} where N where V</b>, y::<b>RoundingMode</b>, z::<b>ForwardDiff.Dual{Tz,V,N} where N where V</b>) in ForwardDiff at <a href=\"file:///home/hp/.julia/packages/ForwardDiff/KHAmA/src/dual.jl\" target=\"_blank\">/home/hp/.julia/packages/ForwardDiff/KHAmA/src/dual.jl:159</a></li> <li> muladd<i>{Tz}</i>(x::<b>Real</b>, y::<b>RoundingMode</b>, z::<b>ForwardDiff.Dual{Tz,V,N} where N where V</b>) in ForwardDiff at <a href=\"file:///home/hp/.julia/packages/ForwardDiff/KHAmA/src/dual.jl\" target=\"_blank\">/home/hp/.julia/packages/ForwardDiff/KHAmA/src/dual.jl:169</a></li> <li> muladd<i>{Tyz}</i>(x::<b>RoundingMode</b>, y::<b>ForwardDiff.Dual{Tyz,V,N} where N where V</b>, z::<b>ForwardDiff.Dual{Tyz,V,N} where N where V</b>) in ForwardDiff at <a href=\"file:///home/hp/.julia/packages/ForwardDiff/KHAmA/src/dual.jl\" target=\"_blank\">/home/hp/.julia/packages/ForwardDiff/KHAmA/src/dual.jl:160</a></li> <li> muladd<i>{Ty, Tz}</i>(x::<b>RoundingMode</b>, y::<b>ForwardDiff.Dual{Ty,V,N} where N where V</b>, z::<b>ForwardDiff.Dual{Tz,V,N} where N where V</b>) in ForwardDiff at <a href=\"file:///home/hp/.julia/packages/ForwardDiff/KHAmA/src/dual.jl\" target=\"_blank\">/home/hp/.julia/packages/ForwardDiff/KHAmA/src/dual.jl:161</a></li> <li> muladd<i>{Tx}</i>(x::<b>ForwardDiff.Dual{Tx,V,N} where N where V</b>, y::<b>RoundingMode</b>, z::<b>AbstractFloat</b>) in ForwardDiff at <a href=\"file:///home/hp/.julia/packages/ForwardDiff/KHAmA/src/dual.jl\" target=\"_blank\">/home/hp/.julia/packages/ForwardDiff/KHAmA/src/dual.jl:167</a></li> <li> muladd<i>{Ty}</i>(x::<b>RoundingMode</b>, y::<b>ForwardDiff.Dual{Ty,V,N} where N where V</b>, z::<b>AbstractFloat</b>) in ForwardDiff at <a href=\"file:///home/hp/.julia/packages/ForwardDiff/KHAmA/src/dual.jl\" target=\"_blank\">/home/hp/.julia/packages/ForwardDiff/KHAmA/src/dual.jl:168</a></li> <li> muladd<i>{Tz}</i>(x::<b>RoundingMode</b>, y::<b>AbstractFloat</b>, z::<b>ForwardDiff.Dual{Tz,V,N} where N where V</b>) in ForwardDiff at <a href=\"file:///home/hp/.julia/packages/ForwardDiff/KHAmA/src/dual.jl\" target=\"_blank\">/home/hp/.julia/packages/ForwardDiff/KHAmA/src/dual.jl:169</a></li> <li> muladd<i>{Tx}</i>(x::<b>ForwardDiff.Dual{Tx,V,N} where N where V</b>, y::<b>RoundingMode</b>, z::<b>Irrational</b>) in ForwardDiff at <a href=\"file:///home/hp/.julia/packages/ForwardDiff/KHAmA/src/dual.jl\" target=\"_blank\">/home/hp/.julia/packages/ForwardDiff/KHAmA/src/dual.jl:167</a></li> <li> muladd<i>{Ty}</i>(x::<b>RoundingMode</b>, y::<b>ForwardDiff.Dual{Ty,V,N} where N where V</b>, z::<b>Irrational</b>) in ForwardDiff at <a href=\"file:///home/hp/.julia/packages/ForwardDiff/KHAmA/src/dual.jl\" target=\"_blank\">/home/hp/.julia/packages/ForwardDiff/KHAmA/src/dual.jl:168</a></li> <li> muladd<i>{Tz}</i>(x::<b>RoundingMode</b>, y::<b>Irrational</b>, z::<b>ForwardDiff.Dual{Tz,V,N} where N where V</b>) in ForwardDiff at <a href=\"file:///home/hp/.julia/packages/ForwardDiff/KHAmA/src/dual.jl\" target=\"_blank\">/home/hp/.julia/packages/ForwardDiff/KHAmA/src/dual.jl:169</a></li> <li> muladd<i>{Tx}</i>(x::<b>ForwardDiff.Dual{Tx,V,N} where N where V</b>, y::<b>RoundingMode</b>, z::<b>Integer</b>) in ForwardDiff at <a href=\"file:///home/hp/.julia/packages/ForwardDiff/KHAmA/src/dual.jl\" target=\"_blank\">/home/hp/.julia/packages/ForwardDiff/KHAmA/src/dual.jl:167</a></li> <li> muladd<i>{Ty}</i>(x::<b>RoundingMode</b>, y::<b>ForwardDiff.Dual{Ty,V,N} where N where V</b>, z::<b>Integer</b>) in ForwardDiff at <a href=\"file:///home/hp/.julia/packages/ForwardDiff/KHAmA/src/dual.jl\" target=\"_blank\">/home/hp/.julia/packages/ForwardDiff/KHAmA/src/dual.jl:168</a></li> <li> muladd<i>{Tz}</i>(x::<b>RoundingMode</b>, y::<b>Integer</b>, z::<b>ForwardDiff.Dual{Tz,V,N} where N where V</b>) in ForwardDiff at <a href=\"file:///home/hp/.julia/packages/ForwardDiff/KHAmA/src/dual.jl\" target=\"_blank\">/home/hp/.julia/packages/ForwardDiff/KHAmA/src/dual.jl:169</a></li> <li> muladd<i>{Tx}</i>(x::<b>ForwardDiff.Dual{Tx,V,N} where N where V</b>, y::<b>RoundingMode</b>, z::<b>Rational</b>) in ForwardDiff at <a href=\"file:///home/hp/.julia/packages/ForwardDiff/KHAmA/src/dual.jl\" target=\"_blank\">/home/hp/.julia/packages/ForwardDiff/KHAmA/src/dual.jl:167</a></li> <li> muladd<i>{Ty}</i>(x::<b>RoundingMode</b>, y::<b>ForwardDiff.Dual{Ty,V,N} where N where V</b>, z::<b>Rational</b>) in ForwardDiff at <a href=\"file:///home/hp/.julia/packages/ForwardDiff/KHAmA/src/dual.jl\" target=\"_blank\">/home/hp/.julia/packages/ForwardDiff/KHAmA/src/dual.jl:168</a></li> <li> muladd<i>{Tz}</i>(x::<b>RoundingMode</b>, y::<b>Rational</b>, z::<b>ForwardDiff.Dual{Tz,V,N} where N where V</b>) in ForwardDiff at <a href=\"file:///home/hp/.julia/packages/ForwardDiff/KHAmA/src/dual.jl\" target=\"_blank\">/home/hp/.julia/packages/ForwardDiff/KHAmA/src/dual.jl:169</a></li> <li> muladd<i>{Tx}</i>(x::<b>ForwardDiff.Dual{Tx,V,N} where N where V</b>, y::<b>RoundingMode</b>, z::<b>Real</b>) in ForwardDiff at <a href=\"file:///home/hp/.julia/packages/ForwardDiff/KHAmA/src/dual.jl\" target=\"_blank\">/home/hp/.julia/packages/ForwardDiff/KHAmA/src/dual.jl:167</a></li> <li> muladd<i>{Ty}</i>(x::<b>RoundingMode</b>, y::<b>ForwardDiff.Dual{Ty,V,N} where N where V</b>, z::<b>Real</b>) in ForwardDiff at <a href=\"file:///home/hp/.julia/packages/ForwardDiff/KHAmA/src/dual.jl\" target=\"_blank\">/home/hp/.julia/packages/ForwardDiff/KHAmA/src/dual.jl:168</a></li> <li> muladd<i>{Tz}</i>(x::<b>RoundingMode</b>, y::<b>Real</b>, z::<b>ForwardDiff.Dual{Tz,V,N} where N where V</b>) in ForwardDiff at <a href=\"file:///home/hp/.julia/packages/ForwardDiff/KHAmA/src/dual.jl\" target=\"_blank\">/home/hp/.julia/packages/ForwardDiff/KHAmA/src/dual.jl:169</a></li> <li> muladd<i>{Tx}</i>(x::<b>ForwardDiff.Dual{Tx,V,N} where N where V</b>, y::<b>RoundingMode</b>, z::<b>RoundingMode</b>) in ForwardDiff at <a href=\"file:///home/hp/.julia/packages/ForwardDiff/KHAmA/src/dual.jl\" target=\"_blank\">/home/hp/.julia/packages/ForwardDiff/KHAmA/src/dual.jl:174</a></li> <li> muladd<i>{Ty}</i>(x::<b>RoundingMode</b>, y::<b>ForwardDiff.Dual{Ty,V,N} where N where V</b>, z::<b>RoundingMode</b>) in ForwardDiff at <a href=\"file:///home/hp/.julia/packages/ForwardDiff/KHAmA/src/dual.jl\" target=\"_blank\">/home/hp/.julia/packages/ForwardDiff/KHAmA/src/dual.jl:175</a></li> <li> muladd<i>{Tz}</i>(x::<b>RoundingMode</b>, y::<b>RoundingMode</b>, z::<b>ForwardDiff.Dual{Tz,V,N} where N where V</b>) in ForwardDiff at <a href=\"file:///home/hp/.julia/packages/ForwardDiff/KHAmA/src/dual.jl\" target=\"_blank\">/home/hp/.julia/packages/ForwardDiff/KHAmA/src/dual.jl:176</a></li> <li> muladd(x, y, z) in Base.Math at <a href=\"https://github.com/JuliaLang/julia/tree/099e826241fca365a120df9bac9a9fede6e7bae4/base/math.jl#L1011\" target=\"_blank\">math.jl:1011</a></li> </ul>"
      ],
      "text/plain": [
       "# 161 methods for generic function \"muladd\":\n",
       "[1] muladd(x::Float32, y::Float32, z::Float32) in Base at float.jl:403\n",
       "[2] muladd(x::Float64, y::Float64, z::Float64) in Base at float.jl:404\n",
       "[3] muladd(a::Float16, b::Float16, c::Float16) in Base at float.jl:406\n",
       "[4] muladd(z::Complex, w::Complex, x::Complex) in Base at complex.jl:271\n",
       "[5] muladd(x::Real, z::Complex, y::Number) in Base at complex.jl:314\n",
       "[6] muladd(z::Complex, x::Real, y::Real) in Base at complex.jl:315\n",
       "[7] muladd(z::Complex, x::Real, w::Complex) in Base at complex.jl:316\n",
       "[8] muladd(x::Real, y::Real, z::Complex) in Base at complex.jl:318\n",
       "[9] muladd(z::Complex, w::Complex, x::Real) in Base at complex.jl:319\n",
       "[10] muladd(x::ForwardDiff.Dual{Txyz,V,N} where N where V, y::ForwardDiff.Dual{Txyz,V,N} where N where V, z::ForwardDiff.Dual{Txyz,V,N} where N where V) where Txyz in ForwardDiff at /home/hp/.julia/packages/ForwardDiff/KHAmA/src/dual.jl:140\n",
       "[11] muladd(x::ForwardDiff.Dual{Txy,V,N} where N where V, y::ForwardDiff.Dual{Txy,V,N} where N where V, z::ForwardDiff.Dual{Tz,V,N} where N where V) where {Txy, Tz} in ForwardDiff at /home/hp/.julia/packages/ForwardDiff/KHAmA/src/dual.jl:141\n",
       "[12] muladd(x::ForwardDiff.Dual{Txz,V,N} where N where V, y::ForwardDiff.Dual{Ty,V,N} where N where V, z::ForwardDiff.Dual{Txz,V,N} where N where V) where {Txz, Ty} in ForwardDiff at /home/hp/.julia/packages/ForwardDiff/KHAmA/src/dual.jl:142\n",
       "[13] muladd(x::ForwardDiff.Dual{Tx,V,N} where N where V, y::ForwardDiff.Dual{Tyz,V,N} where N where V, z::ForwardDiff.Dual{Tyz,V,N} where N where V) where {Tx, Tyz} in ForwardDiff at /home/hp/.julia/packages/ForwardDiff/KHAmA/src/dual.jl:143\n",
       "[14] muladd(x::ForwardDiff.Dual{Tx,V,N} where N where V, y::ForwardDiff.Dual{Ty,V,N} where N where V, z::ForwardDiff.Dual{Tz,V,N} where N where V) where {Tx, Ty, Tz} in ForwardDiff at /home/hp/.julia/packages/ForwardDiff/KHAmA/src/dual.jl:145\n",
       "[15] muladd(x::ForwardDiff.Dual{Txy,V,N} where N where V, y::ForwardDiff.Dual{Txy,V,N} where N where V, z::AbstractFloat) where Txy in ForwardDiff at /home/hp/.julia/packages/ForwardDiff/KHAmA/src/dual.jl:156\n",
       "[16] muladd(x::ForwardDiff.Dual{Tx,V,N} where N where V, y::ForwardDiff.Dual{Ty,V,N} where N where V, z::AbstractFloat) where {Tx, Ty} in ForwardDiff at /home/hp/.julia/packages/ForwardDiff/KHAmA/src/dual.jl:157\n",
       "[17] muladd(x::ForwardDiff.Dual{Txz,V,N} where N where V, y::AbstractFloat, z::ForwardDiff.Dual{Txz,V,N} where N where V) where Txz in ForwardDiff at /home/hp/.julia/packages/ForwardDiff/KHAmA/src/dual.jl:158\n",
       "[18] muladd(x::ForwardDiff.Dual{Tx,V,N} where N where V, y::AbstractFloat, z::ForwardDiff.Dual{Tz,V,N} where N where V) where {Tx, Tz} in ForwardDiff at /home/hp/.julia/packages/ForwardDiff/KHAmA/src/dual.jl:159\n",
       "[19] muladd(x::AbstractFloat, y::ForwardDiff.Dual{Tyz,V,N} where N where V, z::ForwardDiff.Dual{Tyz,V,N} where N where V) where Tyz in ForwardDiff at /home/hp/.julia/packages/ForwardDiff/KHAmA/src/dual.jl:160\n",
       "[20] muladd(x::AbstractFloat, y::ForwardDiff.Dual{Ty,V,N} where N where V, z::ForwardDiff.Dual{Tz,V,N} where N where V) where {Ty, Tz} in ForwardDiff at /home/hp/.julia/packages/ForwardDiff/KHAmA/src/dual.jl:161\n",
       "[21] muladd(x::ForwardDiff.Dual{Tx,V,N} where N where V, y::AbstractFloat, z::Irrational) where Tx in ForwardDiff at /home/hp/.julia/packages/ForwardDiff/KHAmA/src/dual.jl:167\n",
       "[22] muladd(x::AbstractFloat, y::ForwardDiff.Dual{Ty,V,N} where N where V, z::Irrational) where Ty in ForwardDiff at /home/hp/.julia/packages/ForwardDiff/KHAmA/src/dual.jl:168\n",
       "[23] muladd(x::AbstractFloat, y::Irrational, z::ForwardDiff.Dual{Tz,V,N} where N where V) where Tz in ForwardDiff at /home/hp/.julia/packages/ForwardDiff/KHAmA/src/dual.jl:169\n",
       "[24] muladd(x::ForwardDiff.Dual{Tx,V,N} where N where V, y::AbstractFloat, z::Integer) where Tx in ForwardDiff at /home/hp/.julia/packages/ForwardDiff/KHAmA/src/dual.jl:167\n",
       "[25] muladd(x::AbstractFloat, y::ForwardDiff.Dual{Ty,V,N} where N where V, z::Integer) where Ty in ForwardDiff at /home/hp/.julia/packages/ForwardDiff/KHAmA/src/dual.jl:168\n",
       "[26] muladd(x::AbstractFloat, y::Integer, z::ForwardDiff.Dual{Tz,V,N} where N where V) where Tz in ForwardDiff at /home/hp/.julia/packages/ForwardDiff/KHAmA/src/dual.jl:169\n",
       "[27] muladd(x::ForwardDiff.Dual{Tx,V,N} where N where V, y::AbstractFloat, z::Rational) where Tx in ForwardDiff at /home/hp/.julia/packages/ForwardDiff/KHAmA/src/dual.jl:167\n",
       "[28] muladd(x::AbstractFloat, y::ForwardDiff.Dual{Ty,V,N} where N where V, z::Rational) where Ty in ForwardDiff at /home/hp/.julia/packages/ForwardDiff/KHAmA/src/dual.jl:168\n",
       "[29] muladd(x::AbstractFloat, y::Rational, z::ForwardDiff.Dual{Tz,V,N} where N where V) where Tz in ForwardDiff at /home/hp/.julia/packages/ForwardDiff/KHAmA/src/dual.jl:169\n",
       "[30] muladd(x::ForwardDiff.Dual{Tx,V,N} where N where V, y::AbstractFloat, z::AbstractFloat) where Tx in ForwardDiff at /home/hp/.julia/packages/ForwardDiff/KHAmA/src/dual.jl:174\n",
       "[31] muladd(x::ForwardDiff.Dual{Tx,V,N} where N where V, y::AbstractFloat, z::Real) where Tx in ForwardDiff at /home/hp/.julia/packages/ForwardDiff/KHAmA/src/dual.jl:167\n",
       "[32] muladd(x::AbstractFloat, y::ForwardDiff.Dual{Ty,V,N} where N where V, z::AbstractFloat) where Ty in ForwardDiff at /home/hp/.julia/packages/ForwardDiff/KHAmA/src/dual.jl:175\n",
       "[33] muladd(x::AbstractFloat, y::ForwardDiff.Dual{Ty,V,N} where N where V, z::Real) where Ty in ForwardDiff at /home/hp/.julia/packages/ForwardDiff/KHAmA/src/dual.jl:168\n",
       "[34] muladd(x::AbstractFloat, y::AbstractFloat, z::ForwardDiff.Dual{Tz,V,N} where N where V) where Tz in ForwardDiff at /home/hp/.julia/packages/ForwardDiff/KHAmA/src/dual.jl:176\n",
       "[35] muladd(x::AbstractFloat, y::Real, z::ForwardDiff.Dual{Tz,V,N} where N where V) where Tz in ForwardDiff at /home/hp/.julia/packages/ForwardDiff/KHAmA/src/dual.jl:169\n",
       "[36] muladd(x::ForwardDiff.Dual{Txy,V,N} where N where V, y::ForwardDiff.Dual{Txy,V,N} where N where V, z::Irrational) where Txy in ForwardDiff at /home/hp/.julia/packages/ForwardDiff/KHAmA/src/dual.jl:156\n",
       "[37] muladd(x::ForwardDiff.Dual{Tx,V,N} where N where V, y::ForwardDiff.Dual{Ty,V,N} where N where V, z::Irrational) where {Tx, Ty} in ForwardDiff at /home/hp/.julia/packages/ForwardDiff/KHAmA/src/dual.jl:157\n",
       "[38] muladd(x::ForwardDiff.Dual{Txz,V,N} where N where V, y::Irrational, z::ForwardDiff.Dual{Txz,V,N} where N where V) where Txz in ForwardDiff at /home/hp/.julia/packages/ForwardDiff/KHAmA/src/dual.jl:158\n",
       "[39] muladd(x::ForwardDiff.Dual{Tx,V,N} where N where V, y::Irrational, z::ForwardDiff.Dual{Tz,V,N} where N where V) where {Tx, Tz} in ForwardDiff at /home/hp/.julia/packages/ForwardDiff/KHAmA/src/dual.jl:159\n",
       "[40] muladd(x::Irrational, y::ForwardDiff.Dual{Tyz,V,N} where N where V, z::ForwardDiff.Dual{Tyz,V,N} where N where V) where Tyz in ForwardDiff at /home/hp/.julia/packages/ForwardDiff/KHAmA/src/dual.jl:160\n",
       "[41] muladd(x::Irrational, y::ForwardDiff.Dual{Ty,V,N} where N where V, z::ForwardDiff.Dual{Tz,V,N} where N where V) where {Ty, Tz} in ForwardDiff at /home/hp/.julia/packages/ForwardDiff/KHAmA/src/dual.jl:161\n",
       "[42] muladd(x::ForwardDiff.Dual{Tx,V,N} where N where V, y::Irrational, z::AbstractFloat) where Tx in ForwardDiff at /home/hp/.julia/packages/ForwardDiff/KHAmA/src/dual.jl:167\n",
       "[43] muladd(x::Irrational, y::ForwardDiff.Dual{Ty,V,N} where N where V, z::AbstractFloat) where Ty in ForwardDiff at /home/hp/.julia/packages/ForwardDiff/KHAmA/src/dual.jl:168\n",
       "[44] muladd(x::Irrational, y::AbstractFloat, z::ForwardDiff.Dual{Tz,V,N} where N where V) where Tz in ForwardDiff at /home/hp/.julia/packages/ForwardDiff/KHAmA/src/dual.jl:169\n",
       "[45] muladd(x::ForwardDiff.Dual{Tx,V,N} where N where V, y::Irrational, z::Integer) where Tx in ForwardDiff at /home/hp/.julia/packages/ForwardDiff/KHAmA/src/dual.jl:167\n",
       "[46] muladd(x::Irrational, y::ForwardDiff.Dual{Ty,V,N} where N where V, z::Integer) where Ty in ForwardDiff at /home/hp/.julia/packages/ForwardDiff/KHAmA/src/dual.jl:168\n",
       "[47] muladd(x::Irrational, y::Integer, z::ForwardDiff.Dual{Tz,V,N} where N where V) where Tz in ForwardDiff at /home/hp/.julia/packages/ForwardDiff/KHAmA/src/dual.jl:169\n",
       "[48] muladd(x::ForwardDiff.Dual{Tx,V,N} where N where V, y::Irrational, z::Rational) where Tx in ForwardDiff at /home/hp/.julia/packages/ForwardDiff/KHAmA/src/dual.jl:167\n",
       "[49] muladd(x::Irrational, y::ForwardDiff.Dual{Ty,V,N} where N where V, z::Rational) where Ty in ForwardDiff at /home/hp/.julia/packages/ForwardDiff/KHAmA/src/dual.jl:168\n",
       "[50] muladd(x::Irrational, y::Rational, z::ForwardDiff.Dual{Tz,V,N} where N where V) where Tz in ForwardDiff at /home/hp/.julia/packages/ForwardDiff/KHAmA/src/dual.jl:169\n",
       "[51] muladd(x::ForwardDiff.Dual{Tx,V,N} where N where V, y::Irrational, z::Irrational) where Tx in ForwardDiff at /home/hp/.julia/packages/ForwardDiff/KHAmA/src/dual.jl:174\n",
       "[52] muladd(x::ForwardDiff.Dual{Tx,V,N} where N where V, y::Irrational, z::Real) where Tx in ForwardDiff at /home/hp/.julia/packages/ForwardDiff/KHAmA/src/dual.jl:167\n",
       "[53] muladd(x::Irrational, y::ForwardDiff.Dual{Ty,V,N} where N where V, z::Irrational) where Ty in ForwardDiff at /home/hp/.julia/packages/ForwardDiff/KHAmA/src/dual.jl:175\n",
       "[54] muladd(x::Irrational, y::ForwardDiff.Dual{Ty,V,N} where N where V, z::Real) where Ty in ForwardDiff at /home/hp/.julia/packages/ForwardDiff/KHAmA/src/dual.jl:168\n",
       "[55] muladd(x::Irrational, y::Irrational, z::ForwardDiff.Dual{Tz,V,N} where N where V) where Tz in ForwardDiff at /home/hp/.julia/packages/ForwardDiff/KHAmA/src/dual.jl:176\n",
       "[56] muladd(x::Irrational, y::Real, z::ForwardDiff.Dual{Tz,V,N} where N where V) where Tz in ForwardDiff at /home/hp/.julia/packages/ForwardDiff/KHAmA/src/dual.jl:169\n",
       "[57] muladd(x::ForwardDiff.Dual{Txy,V,N} where N where V, y::ForwardDiff.Dual{Txy,V,N} where N where V, z::Integer) where Txy in ForwardDiff at /home/hp/.julia/packages/ForwardDiff/KHAmA/src/dual.jl:156\n",
       "[58] muladd(x::ForwardDiff.Dual{Tx,V,N} where N where V, y::ForwardDiff.Dual{Ty,V,N} where N where V, z::Integer) where {Tx, Ty} in ForwardDiff at /home/hp/.julia/packages/ForwardDiff/KHAmA/src/dual.jl:157\n",
       "[59] muladd(x::ForwardDiff.Dual{Txz,V,N} where N where V, y::Integer, z::ForwardDiff.Dual{Txz,V,N} where N where V) where Txz in ForwardDiff at /home/hp/.julia/packages/ForwardDiff/KHAmA/src/dual.jl:158\n",
       "[60] muladd(x::ForwardDiff.Dual{Tx,V,N} where N where V, y::Integer, z::ForwardDiff.Dual{Tz,V,N} where N where V) where {Tx, Tz} in ForwardDiff at /home/hp/.julia/packages/ForwardDiff/KHAmA/src/dual.jl:159\n",
       "[61] muladd(x::Integer, y::ForwardDiff.Dual{Tyz,V,N} where N where V, z::ForwardDiff.Dual{Tyz,V,N} where N where V) where Tyz in ForwardDiff at /home/hp/.julia/packages/ForwardDiff/KHAmA/src/dual.jl:160\n",
       "[62] muladd(x::Integer, y::ForwardDiff.Dual{Ty,V,N} where N where V, z::ForwardDiff.Dual{Tz,V,N} where N where V) where {Ty, Tz} in ForwardDiff at /home/hp/.julia/packages/ForwardDiff/KHAmA/src/dual.jl:161\n",
       "[63] muladd(x::ForwardDiff.Dual{Tx,V,N} where N where V, y::Integer, z::AbstractFloat) where Tx in ForwardDiff at /home/hp/.julia/packages/ForwardDiff/KHAmA/src/dual.jl:167\n",
       "[64] muladd(x::Integer, y::ForwardDiff.Dual{Ty,V,N} where N where V, z::AbstractFloat) where Ty in ForwardDiff at /home/hp/.julia/packages/ForwardDiff/KHAmA/src/dual.jl:168\n",
       "[65] muladd(x::Integer, y::AbstractFloat, z::ForwardDiff.Dual{Tz,V,N} where N where V) where Tz in ForwardDiff at /home/hp/.julia/packages/ForwardDiff/KHAmA/src/dual.jl:169\n",
       "[66] muladd(x::ForwardDiff.Dual{Tx,V,N} where N where V, y::Integer, z::Irrational) where Tx in ForwardDiff at /home/hp/.julia/packages/ForwardDiff/KHAmA/src/dual.jl:167\n",
       "[67] muladd(x::Integer, y::ForwardDiff.Dual{Ty,V,N} where N where V, z::Irrational) where Ty in ForwardDiff at /home/hp/.julia/packages/ForwardDiff/KHAmA/src/dual.jl:168\n",
       "[68] muladd(x::Integer, y::Irrational, z::ForwardDiff.Dual{Tz,V,N} where N where V) where Tz in ForwardDiff at /home/hp/.julia/packages/ForwardDiff/KHAmA/src/dual.jl:169\n",
       "[69] muladd(x::ForwardDiff.Dual{Tx,V,N} where N where V, y::Integer, z::Rational) where Tx in ForwardDiff at /home/hp/.julia/packages/ForwardDiff/KHAmA/src/dual.jl:167\n",
       "[70] muladd(x::Integer, y::ForwardDiff.Dual{Ty,V,N} where N where V, z::Rational) where Ty in ForwardDiff at /home/hp/.julia/packages/ForwardDiff/KHAmA/src/dual.jl:168\n",
       "[71] muladd(x::Integer, y::Rational, z::ForwardDiff.Dual{Tz,V,N} where N where V) where Tz in ForwardDiff at /home/hp/.julia/packages/ForwardDiff/KHAmA/src/dual.jl:169\n",
       "[72] muladd(x::ForwardDiff.Dual{Tx,V,N} where N where V, y::Integer, z::Integer) where Tx in ForwardDiff at /home/hp/.julia/packages/ForwardDiff/KHAmA/src/dual.jl:174\n",
       "[73] muladd(x::ForwardDiff.Dual{Tx,V,N} where N where V, y::Integer, z::Real) where Tx in ForwardDiff at /home/hp/.julia/packages/ForwardDiff/KHAmA/src/dual.jl:167\n",
       "[74] muladd(x::Integer, y::ForwardDiff.Dual{Ty,V,N} where N where V, z::Integer) where Ty in ForwardDiff at /home/hp/.julia/packages/ForwardDiff/KHAmA/src/dual.jl:175\n",
       "[75] muladd(x::Integer, y::ForwardDiff.Dual{Ty,V,N} where N where V, z::Real) where Ty in ForwardDiff at /home/hp/.julia/packages/ForwardDiff/KHAmA/src/dual.jl:168\n",
       "[76] muladd(x::Integer, y::Integer, z::ForwardDiff.Dual{Tz,V,N} where N where V) where Tz in ForwardDiff at /home/hp/.julia/packages/ForwardDiff/KHAmA/src/dual.jl:176\n",
       "[77] muladd(x::Integer, y::Real, z::ForwardDiff.Dual{Tz,V,N} where N where V) where Tz in ForwardDiff at /home/hp/.julia/packages/ForwardDiff/KHAmA/src/dual.jl:169\n",
       "[78] muladd(x::ForwardDiff.Dual{Txy,V,N} where N where V, y::ForwardDiff.Dual{Txy,V,N} where N where V, z::Rational) where Txy in ForwardDiff at /home/hp/.julia/packages/ForwardDiff/KHAmA/src/dual.jl:156\n",
       "[79] muladd(x::ForwardDiff.Dual{Tx,V,N} where N where V, y::ForwardDiff.Dual{Ty,V,N} where N where V, z::Rational) where {Tx, Ty} in ForwardDiff at /home/hp/.julia/packages/ForwardDiff/KHAmA/src/dual.jl:157\n",
       "[80] muladd(x::ForwardDiff.Dual{Txz,V,N} where N where V, y::Rational, z::ForwardDiff.Dual{Txz,V,N} where N where V) where Txz in ForwardDiff at /home/hp/.julia/packages/ForwardDiff/KHAmA/src/dual.jl:158\n",
       "[81] muladd(x::ForwardDiff.Dual{Tx,V,N} where N where V, y::Rational, z::ForwardDiff.Dual{Tz,V,N} where N where V) where {Tx, Tz} in ForwardDiff at /home/hp/.julia/packages/ForwardDiff/KHAmA/src/dual.jl:159\n",
       "[82] muladd(x::Rational, y::ForwardDiff.Dual{Tyz,V,N} where N where V, z::ForwardDiff.Dual{Tyz,V,N} where N where V) where Tyz in ForwardDiff at /home/hp/.julia/packages/ForwardDiff/KHAmA/src/dual.jl:160\n",
       "[83] muladd(x::Rational, y::ForwardDiff.Dual{Ty,V,N} where N where V, z::ForwardDiff.Dual{Tz,V,N} where N where V) where {Ty, Tz} in ForwardDiff at /home/hp/.julia/packages/ForwardDiff/KHAmA/src/dual.jl:161\n",
       "[84] muladd(x::ForwardDiff.Dual{Tx,V,N} where N where V, y::Rational, z::AbstractFloat) where Tx in ForwardDiff at /home/hp/.julia/packages/ForwardDiff/KHAmA/src/dual.jl:167\n",
       "[85] muladd(x::Rational, y::ForwardDiff.Dual{Ty,V,N} where N where V, z::AbstractFloat) where Ty in ForwardDiff at /home/hp/.julia/packages/ForwardDiff/KHAmA/src/dual.jl:168\n",
       "[86] muladd(x::Rational, y::AbstractFloat, z::ForwardDiff.Dual{Tz,V,N} where N where V) where Tz in ForwardDiff at /home/hp/.julia/packages/ForwardDiff/KHAmA/src/dual.jl:169\n",
       "[87] muladd(x::ForwardDiff.Dual{Tx,V,N} where N where V, y::Rational, z::Irrational) where Tx in ForwardDiff at /home/hp/.julia/packages/ForwardDiff/KHAmA/src/dual.jl:167\n",
       "[88] muladd(x::Rational, y::ForwardDiff.Dual{Ty,V,N} where N where V, z::Irrational) where Ty in ForwardDiff at /home/hp/.julia/packages/ForwardDiff/KHAmA/src/dual.jl:168\n",
       "[89] muladd(x::Rational, y::Irrational, z::ForwardDiff.Dual{Tz,V,N} where N where V) where Tz in ForwardDiff at /home/hp/.julia/packages/ForwardDiff/KHAmA/src/dual.jl:169\n",
       "[90] muladd(x::ForwardDiff.Dual{Tx,V,N} where N where V, y::Rational, z::Integer) where Tx in ForwardDiff at /home/hp/.julia/packages/ForwardDiff/KHAmA/src/dual.jl:167\n",
       "[91] muladd(x::Rational, y::ForwardDiff.Dual{Ty,V,N} where N where V, z::Integer) where Ty in ForwardDiff at /home/hp/.julia/packages/ForwardDiff/KHAmA/src/dual.jl:168\n",
       "[92] muladd(x::Rational, y::Integer, z::ForwardDiff.Dual{Tz,V,N} where N where V) where Tz in ForwardDiff at /home/hp/.julia/packages/ForwardDiff/KHAmA/src/dual.jl:169\n",
       "[93] muladd(x::ForwardDiff.Dual{Tx,V,N} where N where V, y::Rational, z::Rational) where Tx in ForwardDiff at /home/hp/.julia/packages/ForwardDiff/KHAmA/src/dual.jl:174\n",
       "[94] muladd(x::ForwardDiff.Dual{Tx,V,N} where N where V, y::Rational, z::Real) where Tx in ForwardDiff at /home/hp/.julia/packages/ForwardDiff/KHAmA/src/dual.jl:167\n",
       "[95] muladd(x::Rational, y::ForwardDiff.Dual{Ty,V,N} where N where V, z::Rational) where Ty in ForwardDiff at /home/hp/.julia/packages/ForwardDiff/KHAmA/src/dual.jl:175\n",
       "[96] muladd(x::Rational, y::ForwardDiff.Dual{Ty,V,N} where N where V, z::Real) where Ty in ForwardDiff at /home/hp/.julia/packages/ForwardDiff/KHAmA/src/dual.jl:168\n",
       "[97] muladd(x::Rational, y::Rational, z::ForwardDiff.Dual{Tz,V,N} where N where V) where Tz in ForwardDiff at /home/hp/.julia/packages/ForwardDiff/KHAmA/src/dual.jl:176\n",
       "[98] muladd(x::Rational, y::Real, z::ForwardDiff.Dual{Tz,V,N} where N where V) where Tz in ForwardDiff at /home/hp/.julia/packages/ForwardDiff/KHAmA/src/dual.jl:169\n",
       "[99] muladd(x::ForwardDiff.Dual{Txy,V,N} where N where V, y::ForwardDiff.Dual{Txy,V,N} where N where V, z::Real) where Txy in ForwardDiff at /home/hp/.julia/packages/ForwardDiff/KHAmA/src/dual.jl:156\n",
       "[100] muladd(x::ForwardDiff.Dual{Tx,V,N} where N where V, y::ForwardDiff.Dual{Ty,V,N} where N where V, z::Real) where {Tx, Ty} in ForwardDiff at /home/hp/.julia/packages/ForwardDiff/KHAmA/src/dual.jl:157\n",
       "[101] muladd(x::ForwardDiff.Dual{Txz,V,N} where N where V, y::Real, z::ForwardDiff.Dual{Txz,V,N} where N where V) where Txz in ForwardDiff at /home/hp/.julia/packages/ForwardDiff/KHAmA/src/dual.jl:158\n",
       "[102] muladd(x::ForwardDiff.Dual{Tx,V,N} where N where V, y::Real, z::ForwardDiff.Dual{Tz,V,N} where N where V) where {Tx, Tz} in ForwardDiff at /home/hp/.julia/packages/ForwardDiff/KHAmA/src/dual.jl:159\n",
       "[103] muladd(x::Real, y::ForwardDiff.Dual{Tyz,V,N} where N where V, z::ForwardDiff.Dual{Tyz,V,N} where N where V) where Tyz in ForwardDiff at /home/hp/.julia/packages/ForwardDiff/KHAmA/src/dual.jl:160\n",
       "[104] muladd(x::Real, y::ForwardDiff.Dual{Ty,V,N} where N where V, z::ForwardDiff.Dual{Tz,V,N} where N where V) where {Ty, Tz} in ForwardDiff at /home/hp/.julia/packages/ForwardDiff/KHAmA/src/dual.jl:161\n",
       "[105] muladd(x::ForwardDiff.Dual{Tx,V,N} where N where V, y::Real, z::AbstractFloat) where Tx in ForwardDiff at /home/hp/.julia/packages/ForwardDiff/KHAmA/src/dual.jl:167\n",
       "[106] muladd(x::Real, y::ForwardDiff.Dual{Ty,V,N} where N where V, z::AbstractFloat) where Ty in ForwardDiff at /home/hp/.julia/packages/ForwardDiff/KHAmA/src/dual.jl:168\n",
       "[107] muladd(x::Real, y::AbstractFloat, z::ForwardDiff.Dual{Tz,V,N} where N where V) where Tz in ForwardDiff at /home/hp/.julia/packages/ForwardDiff/KHAmA/src/dual.jl:169\n",
       "[108] muladd(x::ForwardDiff.Dual{Tx,V,N} where N where V, y::Real, z::Irrational) where Tx in ForwardDiff at /home/hp/.julia/packages/ForwardDiff/KHAmA/src/dual.jl:167\n",
       "[109] muladd(x::Real, y::ForwardDiff.Dual{Ty,V,N} where N where V, z::Irrational) where Ty in ForwardDiff at /home/hp/.julia/packages/ForwardDiff/KHAmA/src/dual.jl:168\n",
       "[110] muladd(x::Real, y::Irrational, z::ForwardDiff.Dual{Tz,V,N} where N where V) where Tz in ForwardDiff at /home/hp/.julia/packages/ForwardDiff/KHAmA/src/dual.jl:169\n",
       "[111] muladd(x::ForwardDiff.Dual{Tx,V,N} where N where V, y::Real, z::Integer) where Tx in ForwardDiff at /home/hp/.julia/packages/ForwardDiff/KHAmA/src/dual.jl:167\n",
       "[112] muladd(x::Real, y::ForwardDiff.Dual{Ty,V,N} where N where V, z::Integer) where Ty in ForwardDiff at /home/hp/.julia/packages/ForwardDiff/KHAmA/src/dual.jl:168\n",
       "[113] muladd(x::Real, y::Integer, z::ForwardDiff.Dual{Tz,V,N} where N where V) where Tz in ForwardDiff at /home/hp/.julia/packages/ForwardDiff/KHAmA/src/dual.jl:169\n",
       "[114] muladd(x::ForwardDiff.Dual{Tx,V,N} where N where V, y::Real, z::Rational) where Tx in ForwardDiff at /home/hp/.julia/packages/ForwardDiff/KHAmA/src/dual.jl:167\n",
       "[115] muladd(x::Real, y::ForwardDiff.Dual{Ty,V,N} where N where V, z::Rational) where Ty in ForwardDiff at /home/hp/.julia/packages/ForwardDiff/KHAmA/src/dual.jl:168\n",
       "[116] muladd(x::Real, y::Rational, z::ForwardDiff.Dual{Tz,V,N} where N where V) where Tz in ForwardDiff at /home/hp/.julia/packages/ForwardDiff/KHAmA/src/dual.jl:169\n",
       "[117] muladd(x::ForwardDiff.Dual{Tx,V,N} where N where V, y::Real, z::Real) where Tx in ForwardDiff at /home/hp/.julia/packages/ForwardDiff/KHAmA/src/dual.jl:174\n",
       "[118] muladd(x::Real, y::ForwardDiff.Dual{Ty,V,N} where N where V, z::Real) where Ty in ForwardDiff at /home/hp/.julia/packages/ForwardDiff/KHAmA/src/dual.jl:175\n",
       "[119] muladd(x::Real, y::Real, z::ForwardDiff.Dual{Tz,V,N} where N where V) where Tz in ForwardDiff at /home/hp/.julia/packages/ForwardDiff/KHAmA/src/dual.jl:176\n",
       "[120] muladd(x::T, y::T, z::T) where T<:Number in Base at promotion.jl:419\n",
       "[121] muladd(x::Number, y::Number, z::Number) in Base at promotion.jl:348\n",
       "[122] muladd(x::ForwardDiff.Dual{Tx,V,N} where N where V, y::AbstractFloat, z::RoundingMode) where Tx in ForwardDiff at /home/hp/.julia/packages/ForwardDiff/KHAmA/src/dual.jl:167\n",
       "[123] muladd(x::AbstractFloat, y::ForwardDiff.Dual{Ty,V,N} where N where V, z::RoundingMode) where Ty in ForwardDiff at /home/hp/.julia/packages/ForwardDiff/KHAmA/src/dual.jl:168\n",
       "[124] muladd(x::AbstractFloat, y::RoundingMode, z::ForwardDiff.Dual{Tz,V,N} where N where V) where Tz in ForwardDiff at /home/hp/.julia/packages/ForwardDiff/KHAmA/src/dual.jl:169\n",
       "[125] muladd(x::ForwardDiff.Dual{Tx,V,N} where N where V, y::Irrational, z::RoundingMode) where Tx in ForwardDiff at /home/hp/.julia/packages/ForwardDiff/KHAmA/src/dual.jl:167\n",
       "[126] muladd(x::Irrational, y::ForwardDiff.Dual{Ty,V,N} where N where V, z::RoundingMode) where Ty in ForwardDiff at /home/hp/.julia/packages/ForwardDiff/KHAmA/src/dual.jl:168\n",
       "[127] muladd(x::Irrational, y::RoundingMode, z::ForwardDiff.Dual{Tz,V,N} where N where V) where Tz in ForwardDiff at /home/hp/.julia/packages/ForwardDiff/KHAmA/src/dual.jl:169\n",
       "[128] muladd(x::ForwardDiff.Dual{Tx,V,N} where N where V, y::Integer, z::RoundingMode) where Tx in ForwardDiff at /home/hp/.julia/packages/ForwardDiff/KHAmA/src/dual.jl:167\n",
       "[129] muladd(x::Integer, y::ForwardDiff.Dual{Ty,V,N} where N where V, z::RoundingMode) where Ty in ForwardDiff at /home/hp/.julia/packages/ForwardDiff/KHAmA/src/dual.jl:168\n",
       "[130] muladd(x::Integer, y::RoundingMode, z::ForwardDiff.Dual{Tz,V,N} where N where V) where Tz in ForwardDiff at /home/hp/.julia/packages/ForwardDiff/KHAmA/src/dual.jl:169\n",
       "[131] muladd(x::ForwardDiff.Dual{Tx,V,N} where N where V, y::Rational, z::RoundingMode) where Tx in ForwardDiff at /home/hp/.julia/packages/ForwardDiff/KHAmA/src/dual.jl:167\n",
       "[132] muladd(x::Rational, y::ForwardDiff.Dual{Ty,V,N} where N where V, z::RoundingMode) where Ty in ForwardDiff at /home/hp/.julia/packages/ForwardDiff/KHAmA/src/dual.jl:168\n",
       "[133] muladd(x::Rational, y::RoundingMode, z::ForwardDiff.Dual{Tz,V,N} where N where V) where Tz in ForwardDiff at /home/hp/.julia/packages/ForwardDiff/KHAmA/src/dual.jl:169\n",
       "[134] muladd(x::ForwardDiff.Dual{Txy,V,N} where N where V, y::ForwardDiff.Dual{Txy,V,N} where N where V, z::RoundingMode) where Txy in ForwardDiff at /home/hp/.julia/packages/ForwardDiff/KHAmA/src/dual.jl:156\n",
       "[135] muladd(x::ForwardDiff.Dual{Tx,V,N} where N where V, y::ForwardDiff.Dual{Ty,V,N} where N where V, z::RoundingMode) where {Tx, Ty} in ForwardDiff at /home/hp/.julia/packages/ForwardDiff/KHAmA/src/dual.jl:157\n",
       "[136] muladd(x::ForwardDiff.Dual{Tx,V,N} where N where V, y::Real, z::RoundingMode) where Tx in ForwardDiff at /home/hp/.julia/packages/ForwardDiff/KHAmA/src/dual.jl:167\n",
       "[137] muladd(x::Real, y::ForwardDiff.Dual{Ty,V,N} where N where V, z::RoundingMode) where Ty in ForwardDiff at /home/hp/.julia/packages/ForwardDiff/KHAmA/src/dual.jl:168\n",
       "[138] muladd(x::ForwardDiff.Dual{Txz,V,N} where N where V, y::RoundingMode, z::ForwardDiff.Dual{Txz,V,N} where N where V) where Txz in ForwardDiff at /home/hp/.julia/packages/ForwardDiff/KHAmA/src/dual.jl:158\n",
       "[139] muladd(x::ForwardDiff.Dual{Tx,V,N} where N where V, y::RoundingMode, z::ForwardDiff.Dual{Tz,V,N} where N where V) where {Tx, Tz} in ForwardDiff at /home/hp/.julia/packages/ForwardDiff/KHAmA/src/dual.jl:159\n",
       "[140] muladd(x::Real, y::RoundingMode, z::ForwardDiff.Dual{Tz,V,N} where N where V) where Tz in ForwardDiff at /home/hp/.julia/packages/ForwardDiff/KHAmA/src/dual.jl:169\n",
       "[141] muladd(x::RoundingMode, y::ForwardDiff.Dual{Tyz,V,N} where N where V, z::ForwardDiff.Dual{Tyz,V,N} where N where V) where Tyz in ForwardDiff at /home/hp/.julia/packages/ForwardDiff/KHAmA/src/dual.jl:160\n",
       "[142] muladd(x::RoundingMode, y::ForwardDiff.Dual{Ty,V,N} where N where V, z::ForwardDiff.Dual{Tz,V,N} where N where V) where {Ty, Tz} in ForwardDiff at /home/hp/.julia/packages/ForwardDiff/KHAmA/src/dual.jl:161\n",
       "[143] muladd(x::ForwardDiff.Dual{Tx,V,N} where N where V, y::RoundingMode, z::AbstractFloat) where Tx in ForwardDiff at /home/hp/.julia/packages/ForwardDiff/KHAmA/src/dual.jl:167\n",
       "[144] muladd(x::RoundingMode, y::ForwardDiff.Dual{Ty,V,N} where N where V, z::AbstractFloat) where Ty in ForwardDiff at /home/hp/.julia/packages/ForwardDiff/KHAmA/src/dual.jl:168\n",
       "[145] muladd(x::RoundingMode, y::AbstractFloat, z::ForwardDiff.Dual{Tz,V,N} where N where V) where Tz in ForwardDiff at /home/hp/.julia/packages/ForwardDiff/KHAmA/src/dual.jl:169\n",
       "[146] muladd(x::ForwardDiff.Dual{Tx,V,N} where N where V, y::RoundingMode, z::Irrational) where Tx in ForwardDiff at /home/hp/.julia/packages/ForwardDiff/KHAmA/src/dual.jl:167\n",
       "[147] muladd(x::RoundingMode, y::ForwardDiff.Dual{Ty,V,N} where N where V, z::Irrational) where Ty in ForwardDiff at /home/hp/.julia/packages/ForwardDiff/KHAmA/src/dual.jl:168\n",
       "[148] muladd(x::RoundingMode, y::Irrational, z::ForwardDiff.Dual{Tz,V,N} where N where V) where Tz in ForwardDiff at /home/hp/.julia/packages/ForwardDiff/KHAmA/src/dual.jl:169\n",
       "[149] muladd(x::ForwardDiff.Dual{Tx,V,N} where N where V, y::RoundingMode, z::Integer) where Tx in ForwardDiff at /home/hp/.julia/packages/ForwardDiff/KHAmA/src/dual.jl:167\n",
       "[150] muladd(x::RoundingMode, y::ForwardDiff.Dual{Ty,V,N} where N where V, z::Integer) where Ty in ForwardDiff at /home/hp/.julia/packages/ForwardDiff/KHAmA/src/dual.jl:168\n",
       "[151] muladd(x::RoundingMode, y::Integer, z::ForwardDiff.Dual{Tz,V,N} where N where V) where Tz in ForwardDiff at /home/hp/.julia/packages/ForwardDiff/KHAmA/src/dual.jl:169\n",
       "[152] muladd(x::ForwardDiff.Dual{Tx,V,N} where N where V, y::RoundingMode, z::Rational) where Tx in ForwardDiff at /home/hp/.julia/packages/ForwardDiff/KHAmA/src/dual.jl:167\n",
       "[153] muladd(x::RoundingMode, y::ForwardDiff.Dual{Ty,V,N} where N where V, z::Rational) where Ty in ForwardDiff at /home/hp/.julia/packages/ForwardDiff/KHAmA/src/dual.jl:168\n",
       "[154] muladd(x::RoundingMode, y::Rational, z::ForwardDiff.Dual{Tz,V,N} where N where V) where Tz in ForwardDiff at /home/hp/.julia/packages/ForwardDiff/KHAmA/src/dual.jl:169\n",
       "[155] muladd(x::ForwardDiff.Dual{Tx,V,N} where N where V, y::RoundingMode, z::Real) where Tx in ForwardDiff at /home/hp/.julia/packages/ForwardDiff/KHAmA/src/dual.jl:167\n",
       "[156] muladd(x::RoundingMode, y::ForwardDiff.Dual{Ty,V,N} where N where V, z::Real) where Ty in ForwardDiff at /home/hp/.julia/packages/ForwardDiff/KHAmA/src/dual.jl:168\n",
       "[157] muladd(x::RoundingMode, y::Real, z::ForwardDiff.Dual{Tz,V,N} where N where V) where Tz in ForwardDiff at /home/hp/.julia/packages/ForwardDiff/KHAmA/src/dual.jl:169\n",
       "[158] muladd(x::ForwardDiff.Dual{Tx,V,N} where N where V, y::RoundingMode, z::RoundingMode) where Tx in ForwardDiff at /home/hp/.julia/packages/ForwardDiff/KHAmA/src/dual.jl:174\n",
       "[159] muladd(x::RoundingMode, y::ForwardDiff.Dual{Ty,V,N} where N where V, z::RoundingMode) where Ty in ForwardDiff at /home/hp/.julia/packages/ForwardDiff/KHAmA/src/dual.jl:175\n",
       "[160] muladd(x::RoundingMode, y::RoundingMode, z::ForwardDiff.Dual{Tz,V,N} where N where V) where Tz in ForwardDiff at /home/hp/.julia/packages/ForwardDiff/KHAmA/src/dual.jl:176\n",
       "[161] muladd(x, y, z) in Base.Math at math.jl:1011"
      ]
     },
     "execution_count": 11,
     "metadata": {},
     "output_type": "execute_result"
    }
   ],
   "source": [
    "methods(muladd)"
   ]
  },
  {
   "cell_type": "markdown",
   "metadata": {},
   "source": [
    "Many of the bugs you can expect to see if you program in Julia arise because a function was called with values for which there is no method. That is, the type signature of the input values was wrong. You solve this in one of two ways\n",
    "- by making sure the input values have the right type signature, or \n",
    "- by writing an additional method for the required type signature"
   ]
  },
  {
   "cell_type": "markdown",
   "metadata": {},
   "source": [
    "[Back to the top](#In-this-lecture)"
   ]
  }
 ],
 "metadata": {
  "kernelspec": {
   "display_name": "Julia 1.0.3",
   "language": "julia",
   "name": "julia-1.0"
  },
  "language_info": {
   "file_extension": ".jl",
   "mimetype": "application/julia",
   "name": "julia",
   "version": "1.0.3"
  }
 },
 "nbformat": 4,
 "nbformat_minor": 1
}
